{
 "cells": [
  {
   "cell_type": "code",
   "execution_count": 1,
   "id": "770a6a29-51ac-468b-9211-c61737d2e540",
   "metadata": {},
   "outputs": [
    {
     "name": "stdout",
     "output_type": "stream",
     "text": [
      "✅ The installed version of syft==0.8.0.post2 matches the requirement >=0.8 and the requirement <0.8.1\n"
     ]
    }
   ],
   "source": [
    "import syft as sy\n",
    "sy.requires(\">=0.8,<0.8.1\")\n",
    "from syft import autocache"
   ]
  },
  {
   "cell_type": "code",
   "execution_count": null,
   "id": "ff6c3c8e",
   "metadata": {},
   "outputs": [],
   "source": [
    "import pandas as pd\n",
    "raw_data = pd.read_pickle(\"../datasets/sample.pkl\")"
   ]
  },
  {
   "cell_type": "code",
   "execution_count": 14,
   "id": "b815391a-de5f-4b10-8113-7b445d78c2f0",
   "metadata": {},
   "outputs": [
    {
     "name": "stdout",
     "output_type": "stream",
     "text": [
      "Starting test-domain_api server on 0.0.0.0:8421\n",
      "\n",
      "WARNING: private key is based on node name: test-domain_api in dev_mode. Don't run this in production.\n",
      "SQLite Store Path:\n",
      "!open file:///tmp/169ee8d9e984406ebd1c7698e66a923f.sqlite\n",
      "\n",
      "Waiting for server to start..."
     ]
    },
    {
     "name": "stderr",
     "output_type": "stream",
     "text": [
      "INFO:     Started server process [4279]\n",
      "INFO:     Waiting for application startup.\n",
      "INFO:     Application startup complete.\n",
      "INFO:     Uvicorn running on http://0.0.0.0:8421 (Press CTRL+C to quit)\n"
     ]
    },
    {
     "name": "stdout",
     "output_type": "stream",
     "text": [
      "INFO:     127.0.0.1:54950 - \"GET /api/v2/metadata HTTP/1.1\" 200 OK\n",
      ". Done.\n",
      "INFO:     127.0.0.1:54954 - \"GET /api/v2/metadata HTTP/1.1\" 200 OK\n",
      "INFO:     127.0.0.1:54954 - \"POST /api/v2/login HTTP/1.1\" 200 OK\n",
      "INFO:     127.0.0.1:54954 - \"GET /api/v2/api?verify_key=855efeabbf524904b1902aeb0bb7bcf64bb441dccc0e51cbdacc65d2d639769c HTTP/1.1\" 200 OK\n"
     ]
    }
   ],
   "source": [
    "node = sy.orchestra.launch(name=\"test-domain_api\", port=\"auto\", dev_mode=True, reset=True)\n"
   ]
  },
  {
   "cell_type": "code",
   "execution_count": 15,
   "id": "95321950-c0a4-427a-a6ce-f5ceebf02752",
   "metadata": {},
   "outputs": [],
   "source": [
    "domain_client = node.login(email=\"info@openmined.org\", password=\"changethis\")\n"
   ]
  },
  {
   "cell_type": "code",
   "execution_count": 16,
   "id": "db2fd33a-c931-4a28-a034-9f4b40af621b",
   "metadata": {},
   "outputs": [
    {
     "name": "stderr",
     "output_type": "stream",
     "text": [
      "/home/hossam/anaconda3/envs/new_version/lib/python3.9/site-packages/IPython/core/formatters.py:367: FormatterWarning: text/html formatter returned invalid type <class 'type'> (expected <class 'str'>) for object: <SyftClient - test-domain_api <169ee8d9e984406ebd1c7698e66a923f>: HTTPConnection: http://localhost:8421>\n",
      "  warnings.warn(\n"
     ]
    },
    {
     "data": {
      "text/plain": [
       "<SyftClient - test-domain_api <169ee8d9e984406ebd1c7698e66a923f>: HTTPConnection: http://localhost:8421>"
      ]
     },
     "execution_count": 16,
     "metadata": {},
     "output_type": "execute_result"
    }
   ],
   "source": [
    "domain_client"
   ]
  },
  {
   "cell_type": "code",
   "execution_count": 19,
   "id": "50dea923-4eff-4ae3-879c-80b5761e358a",
   "metadata": {},
   "outputs": [
    {
     "ename": "AttributeError",
     "evalue": "SyftClient object has no attribute privacy_budget.",
     "output_type": "error",
     "traceback": [
      "\u001b[0;31m---------------------------------------------------------------------------\u001b[0m",
      "\u001b[0;31mAttributeError\u001b[0m                            Traceback (most recent call last)",
      "Cell \u001b[0;32mIn[19], line 1\u001b[0m\n\u001b[0;32m----> 1\u001b[0m \u001b[43mdomain_client\u001b[49m\u001b[38;5;241;43m.\u001b[39;49m\u001b[43mprivacy_budget\u001b[49m\n",
      "File \u001b[0;32m~/PySyft/packages/syft/src/syft/client/client.py:577\u001b[0m, in \u001b[0;36mSyftClient.__getattr__\u001b[0;34m(self, name)\u001b[0m\n\u001b[1;32m    575\u001b[0m     \u001b[38;5;28;01mreturn\u001b[39;00m \u001b[38;5;28mgetattr\u001b[39m(\u001b[38;5;28mself\u001b[39m\u001b[38;5;241m.\u001b[39mapi\u001b[38;5;241m.\u001b[39mlib, name)\n\u001b[1;32m    576\u001b[0m \u001b[38;5;28;01melse\u001b[39;00m:\n\u001b[0;32m--> 577\u001b[0m     \u001b[38;5;28;01mraise\u001b[39;00m \u001b[38;5;167;01mAttributeError\u001b[39;00m(\n\u001b[1;32m    578\u001b[0m         \u001b[38;5;124mf\u001b[39m\u001b[38;5;124m\"\u001b[39m\u001b[38;5;132;01m{\u001b[39;00m\u001b[38;5;28mself\u001b[39m\u001b[38;5;241m.\u001b[39m\u001b[38;5;18m__class__\u001b[39m\u001b[38;5;241m.\u001b[39m\u001b[38;5;18m__name__\u001b[39m\u001b[38;5;132;01m}\u001b[39;00m\u001b[38;5;124m object has no attribute \u001b[39m\u001b[38;5;132;01m{\u001b[39;00mname\u001b[38;5;132;01m}\u001b[39;00m\u001b[38;5;124m.\u001b[39m\u001b[38;5;124m\"\u001b[39m\n\u001b[1;32m    579\u001b[0m     )\n",
      "\u001b[0;31mAttributeError\u001b[0m: SyftClient object has no attribute privacy_budget."
     ]
    }
   ],
   "source": [
    "domain_client.privacy_budget"
   ]
  },
  {
   "cell_type": "code",
   "execution_count": null,
   "id": "d1135d53-7925-4bbf-a621-859982faf51f",
   "metadata": {},
   "outputs": [],
   "source": [
    "data_subjects = domain_client.api.services.data_subject.get_all()\n"
   ]
  },
  {
   "cell_type": "code",
   "execution_count": null,
   "id": "8c5567af-f6a1-4967-9019-28a4e8b6edc4",
   "metadata": {},
   "outputs": [],
   "source": [
    "data_subjects"
   ]
  },
  {
   "cell_type": "code",
   "execution_count": null,
   "id": "856ac32c-9045-48b8-8a46-b4d6dc9f4fea",
   "metadata": {},
   "outputs": [],
   "source": [
    "assert len(data_subjects) == 0\n"
   ]
  },
  {
   "cell_type": "code",
   "execution_count": null,
   "id": "793569c7-cb3b-4eaa-99ea-c6a23130f37f",
   "metadata": {},
   "outputs": [],
   "source": [
    "import glob\n",
    "import pandas as pd\n",
    "dfs = []\n",
    "filepaths = glob.glob('../datasets/EMAKI_preprocessed/mouse/*.csv')\n",
    "assert len(filepaths) > 0, 'Dataset not found! Have you already been converting it?'\n",
    "for filepath in filepaths:\n",
    "     filename = filepath.split('\\\\')[-1].split('/')[-1].split('.')[0]\n",
    "     dfs.append(pd.read_csv(filepath))"
   ]
  },
  {
   "cell_type": "code",
   "execution_count": null,
   "id": "66c31a24-4e40-44c7-a90d-9c6170c4fa89",
   "metadata": {},
   "outputs": [],
   "source": [
    "user = sy.DataSubject(name=\"user\", aliases=[\"user_code\"])\n",
    "dict = {}\n",
    "for i in range (39):\n",
    "   user.add_member(sy.DataSubject(name=f\"user {i}\", aliases=[f\"user_code {i}\"]))"
   ]
  },
  {
   "cell_type": "code",
   "execution_count": null,
   "id": "f42b812d-a7e1-4333-b14d-5bd9f98e0979",
   "metadata": {},
   "outputs": [],
   "source": [
    "registry = domain_client.data_subject_registry\n",
    "response = registry.add_data_subject(user)"
   ]
  },
  {
   "cell_type": "code",
   "execution_count": null,
   "id": "83021bfd-b687-4e0d-a154-d8d34a6f768a",
   "metadata": {},
   "outputs": [],
   "source": [
    "domain_client.data_subject_registry\n"
   ]
  },
  {
   "cell_type": "code",
   "execution_count": null,
   "id": "99074411-efdb-4c8c-8b3d-0ab2e5331255",
   "metadata": {},
   "outputs": [],
   "source": [
    "data_subjects = domain_client.api.services.data_subject.get_all()\n"
   ]
  },
  {
   "cell_type": "code",
   "execution_count": null,
   "id": "6285588c-0b54-4333-a2bd-ab10bd862704",
   "metadata": {},
   "outputs": [],
   "source": [
    "for data_subject in data_subjects:\n",
    "    print (data_subject)"
   ]
  },
  {
   "cell_type": "code",
   "execution_count": null,
   "id": "a1f1b3c9-c07b-4d3c-9258-aea7c6b4cee8",
   "metadata": {},
   "outputs": [],
   "source": [
    "mouse_data = raw_data[raw_data['type'].isin(['mousemove', 'mousedown', 'mouseup'])]\n",
    "mouse_data=mouse_data.drop(['ID', 'INVALID', 'type', 'value', 'mu'], axis=1)\n",
    "\n",
    "keyboard_data = raw_data[raw_data['type'].isin(['keyup', 'keydown'])]\n",
    "keyboard_data=keyboard_data.drop(['ID', 'INVALID', 'X', 'Y', 'resolutionX', 'resolutionY', 'mu'], axis=1)\n",
    "keystrokes = keyboard_data['value'].unique()\n",
    "# encode the keystrokes\n",
    "# 0 > keydown 1 > keyup\n",
    "# 0 > 112 keystorkes\n",
    "for i in range(len(keystrokes)):\n",
    "    keyboard_data['value'].replace(keystrokes[i], i, inplace=True)\n",
    "\n"
   ]
  },
  {
   "cell_type": "code",
   "execution_count": null,
   "id": "f9d518ae-da89-43ed-bafe-e2820c357ed6",
   "metadata": {},
   "outputs": [],
   "source": [
    "asset = mouse_data[0:1000]\n",
    "mock_data = mouse_data[1000:2000]\n"
   ]
  },
  {
   "cell_type": "code",
   "execution_count": null,
   "id": "b23bcb65-cb8c-4b34-86f2-6437583e09d2",
   "metadata": {},
   "outputs": [],
   "source": [
    "asset2 = keyboard_data[0:1000]\n",
    "mock_data2 = keyboard_data[1000:2000]"
   ]
  },
  {
   "cell_type": "code",
   "execution_count": null,
   "id": "79805473-a4f7-4af6-a8cf-b60bacdc99e5",
   "metadata": {},
   "outputs": [],
   "source": [
    "dataset = sy.Dataset(name=\"mouse data\")\n",
    "dataset.set_description(\"\"\"mouse data \"\"\")"
   ]
  },
  {
   "cell_type": "code",
   "execution_count": null,
   "id": "d973cd39-cedf-402f-b84b-7b6612e4e2c0",
   "metadata": {},
   "outputs": [],
   "source": [
    "dataset.add_citation(\"Person, place or thing\")\n",
    "dataset.add_url(\"https://github.com/OpenMined/datasets/tree/main/trade_flow\")"
   ]
  },
  {
   "cell_type": "code",
   "execution_count": null,
   "id": "5f2bbf0e-8b31-4fae-8ef2-6e97248e7c84",
   "metadata": {},
   "outputs": [],
   "source": [
    "dataset.add_contributor(role=sy.roles.UPLOADER, \n",
    "                                name=\"Hossam Elfar \", \n",
    "                                email=\"hossam@openmined.org\",\n",
    "                                note=\"Andrew runs this domain and prepared the dataset metadata.\")\n",
    "\n",
    "dataset.add_contributor(role=sy.roles.EDITOR, \n",
    "                                name=\"hossam elfar\", \n",
    "                                email=\"madhava@openmined.org\",\n",
    "                                note=\"Madhava tweaked the description to add the URL because Andrew forgot.\")"
   ]
  },
  {
   "cell_type": "code",
   "execution_count": null,
   "id": "cfee4d3b-cf9b-4cb2-9544-3e84168acb0d",
   "metadata": {},
   "outputs": [],
   "source": [
    "dataset.contributors\n"
   ]
  },
  {
   "cell_type": "code",
   "execution_count": null,
   "id": "8e48ac59-8171-421e-a78d-5c4e1c6e8616",
   "metadata": {},
   "outputs": [],
   "source": [
    "ctf = sy.Asset(name=\"mouse_data\")\n",
    "ctf.set_description(\"\"\"all the datas\"\"\")"
   ]
  },
  {
   "cell_type": "code",
   "execution_count": null,
   "id": "3dda33c1-fdff-42f3-9534-8756404cd52e",
   "metadata": {},
   "outputs": [],
   "source": [
    "ctf.add_contributor(role=sy.roles.UPLOADER, \n",
    "                      name=\"hossam elfar\", \n",
    "                      email=\"andrew@openmined.org\",\n",
    "                      note=\"Andrew runs this domain and prepared the asset.\")"
   ]
  },
  {
   "cell_type": "code",
   "execution_count": null,
   "id": "6e3e87a4-8bb6-44f0-8669-aafb6773b6cd",
   "metadata": {},
   "outputs": [],
   "source": [
    "ctf.set_obj(asset)\n",
    "ctf.set_shape((1000, 13))\n",
    "ctf.add_data_subject(data_subjects[9])"
   ]
  },
  {
   "cell_type": "code",
   "execution_count": null,
   "id": "40172058-116d-4a3a-8d1d-5dd13ddd3b2c",
   "metadata": {},
   "outputs": [],
   "source": [
    "ctf.set_mock(mock_data, mock_is_real=True)\n"
   ]
  },
  {
   "cell_type": "code",
   "execution_count": null,
   "id": "bdc786a4-fe7c-42e2-8c5d-c1d2b2510618",
   "metadata": {},
   "outputs": [],
   "source": [
    "dataset.add_asset(ctf)\n"
   ]
  },
  {
   "cell_type": "code",
   "execution_count": null,
   "id": "1d288934-f16a-4976-b643-4d0dfec42ddf",
   "metadata": {},
   "outputs": [],
   "source": [
    "dataset.remove_asset(name=ctf.name)\n"
   ]
  },
  {
   "cell_type": "code",
   "execution_count": null,
   "id": "45c5e8ad-0621-4e7c-9e60-061ef7d2a6e9",
   "metadata": {},
   "outputs": [],
   "source": [
    "dataset"
   ]
  },
  {
   "cell_type": "code",
   "execution_count": null,
   "id": "f677d361-4222-4693-8a4f-5575f5984f2d",
   "metadata": {},
   "outputs": [],
   "source": [
    "domain_client.upload_dataset(dataset)\n"
   ]
  },
  {
   "cell_type": "code",
   "execution_count": null,
   "id": "f5ad208d-7df7-4710-a692-6b66c4bd89b2",
   "metadata": {},
   "outputs": [],
   "source": [
    "dataset2 = sy.Dataset(name=\"keyboard data\")\n",
    "dataset2.set_description(\"\"\"keyboard data \"\"\")"
   ]
  },
  {
   "cell_type": "code",
   "execution_count": null,
   "id": "9f08ace6-26ee-4594-a104-cd1a9fa305f8",
   "metadata": {},
   "outputs": [],
   "source": [
    "dataset2.add_citation(\"Person, place or thing\")\n",
    "dataset2.add_url(\"https://github.com/OpenMined/datasets/tree/main/trade_flow\")"
   ]
  },
  {
   "cell_type": "code",
   "execution_count": null,
   "id": "ef861eb7-8986-4216-ab98-3da0c0c02af7",
   "metadata": {},
   "outputs": [],
   "source": [
    "dataset2.add_contributor(role=sy.roles.UPLOADER, \n",
    "                                name=\"Hossam Elfar \", \n",
    "                                email=\"andrew@openmined.org\",\n",
    "                                note=\"Andrew runs this domain and prepared the dataset metadata.\")\n",
    "\n",
    "dataset2.add_contributor(role=sy.roles.EDITOR, \n",
    "                                name=\"Madhava Jay\", \n",
    "                                email=\"madhava@openmined.org\",\n",
    "                                note=\"Madhava tweaked the description to add the URL because Andrew forgot.\")"
   ]
  },
  {
   "cell_type": "code",
   "execution_count": null,
   "id": "68059910-f281-4d95-94f2-bc1773e2fb82",
   "metadata": {},
   "outputs": [],
   "source": [
    "ctf = sy.Asset(name=\"keyboard data\")\n",
    "ctf.set_description(\"\"\"all the datas\"\"\")"
   ]
  },
  {
   "cell_type": "code",
   "execution_count": null,
   "id": "285f67cb-e268-4b8f-a09e-45c6bc8c8861",
   "metadata": {},
   "outputs": [],
   "source": [
    "ctf.set_obj(asset2)\n",
    "ctf.set_shape((1000, 13))\n",
    "ctf.add_data_subject(data_subjects[9])"
   ]
  },
  {
   "cell_type": "code",
   "execution_count": null,
   "id": "2ea60f16-6467-424e-a9b6-8c2814973556",
   "metadata": {},
   "outputs": [],
   "source": [
    "ctf.set_mock(mock_data2, mock_is_real=True)\n"
   ]
  },
  {
   "cell_type": "code",
   "execution_count": null,
   "id": "da63a939-99da-49ce-9f0b-d726a9815813",
   "metadata": {},
   "outputs": [],
   "source": [
    "dataset2.add_asset(ctf)"
   ]
  },
  {
   "cell_type": "code",
   "execution_count": null,
   "id": "96d43bba-eb26-4901-b7e0-5a7dedbf148e",
   "metadata": {},
   "outputs": [],
   "source": [
    "ctf.add_contributor(role=sy.roles.UPLOADER, \n",
    "                      name=\"Hossam ELFAR\", \n",
    "                      email=\"andrew@openmined.org\",\n",
    "                      note=\"Andrew runs this domain and prepared the asset.\")"
   ]
  },
  {
   "cell_type": "code",
   "execution_count": null,
   "id": "7eb6d81b-50cb-4885-acd0-a2b0d2e62cd3",
   "metadata": {},
   "outputs": [],
   "source": [
    "domain_client.upload_dataset(dataset2)\n"
   ]
  },
  {
   "cell_type": "code",
   "execution_count": null,
   "id": "2787a2ad-9cf0-4592-acda-15c8e79f756d",
   "metadata": {},
   "outputs": [],
   "source": [
    "datasets = domain_client.api.services.dataset.get_all()\n"
   ]
  },
  {
   "cell_type": "code",
   "execution_count": null,
   "id": "6343e488-9393-43ae-8216-4f0909548ef0",
   "metadata": {},
   "outputs": [],
   "source": [
    "datasets"
   ]
  },
  {
   "cell_type": "code",
   "execution_count": null,
   "id": "694b0441-9b85-426b-9ed5-025055869e2d",
   "metadata": {},
   "outputs": [],
   "source": [
    "real = domain_client.datasets[0].assets[0].data\n"
   ]
  },
  {
   "cell_type": "code",
   "execution_count": null,
   "id": "a9cdb4a6-5d4c-4b38-87b3-408755cc61d7",
   "metadata": {},
   "outputs": [],
   "source": [
    "real"
   ]
  },
  {
   "cell_type": "code",
   "execution_count": null,
   "id": "772b79bf-cd64-4f86-b0c1-55c138ba42a1",
   "metadata": {},
   "outputs": [],
   "source": [
    "assert asset.equals(real.syft_action_data)\n"
   ]
  },
  {
   "cell_type": "code",
   "execution_count": null,
   "id": "97ba6c3d-97f8-46db-b3e9-a663b62182f5",
   "metadata": {},
   "outputs": [],
   "source": [
    "################################################## here we gonna take client expereince"
   ]
  },
  {
   "cell_type": "code",
   "execution_count": null,
   "id": "3f0c93f3-017c-4d82-8b53-db83ad50f940",
   "metadata": {},
   "outputs": [],
   "source": [
    "import syft as sy\n",
    "sy.requires(\">=0.8,<0.8.1\")\n",
    "from syft.client.api import NodeView"
   ]
  },
  {
   "cell_type": "code",
   "execution_count": null,
   "id": "de608f07-4ade-4c31-8f0d-de5dbcb5f381",
   "metadata": {},
   "outputs": [],
   "source": [
    "guest_domain_client = node.client\n"
   ]
  },
  {
   "cell_type": "code",
   "execution_count": null,
   "id": "58ac8fa8-f523-42ca-b64a-8fd4da663c6a",
   "metadata": {},
   "outputs": [],
   "source": [
    "guest_credentials = guest_domain_client.credentials\n",
    "guest_credentials"
   ]
  },
  {
   "cell_type": "code",
   "execution_count": null,
   "id": "5f4cbcab-5848-49ec-b628-8e3a396c6187",
   "metadata": {},
   "outputs": [],
   "source": [
    "guest_domain_client.register(name=\"Jane Doe\", email=\"jane@caltech.edu\", password=\"abc123\", institution=\"Caltech\", website=\"https://www.caltech.edu/\")\n"
   ]
  },
  {
   "cell_type": "code",
   "execution_count": null,
   "id": "86bdb43d-791a-49fa-b347-cf146d36f478",
   "metadata": {},
   "outputs": [],
   "source": [
    "guest_domain_client.login(email=\"jane@caltech.edu\", password=\"abc123\")\n"
   ]
  },
  {
   "cell_type": "code",
   "execution_count": null,
   "id": "4578ea68-740c-45cd-8372-34e4fbf4f06f",
   "metadata": {},
   "outputs": [],
   "source": [
    "datasets =guest_domain_client.datasets\n"
   ]
  },
  {
   "cell_type": "code",
   "execution_count": null,
   "id": "187a42bc-a8d6-4e89-b5e9-f9abbf4bc049",
   "metadata": {},
   "outputs": [],
   "source": [
    "datasets"
   ]
  },
  {
   "cell_type": "code",
   "execution_count": null,
   "id": "0617e178-e27a-4471-b9d0-385990c4f76b",
   "metadata": {},
   "outputs": [],
   "source": [
    "mouse_dataset = datasets[0]\n"
   ]
  },
  {
   "cell_type": "code",
   "execution_count": null,
   "id": "0476fe7f-3500-49f1-ac69-a0296fe63d15",
   "metadata": {},
   "outputs": [],
   "source": [
    "mouse_dataset"
   ]
  },
  {
   "cell_type": "code",
   "execution_count": null,
   "id": "6b62ac92-1760-4499-b27c-4a91126af997",
   "metadata": {},
   "outputs": [],
   "source": [
    "assert guest_domain_client.credentials != guest_credentials\n"
   ]
  },
  {
   "cell_type": "code",
   "execution_count": null,
   "id": "0d0bcef1-2ed2-47ef-827f-0c677461c6b0",
   "metadata": {},
   "outputs": [],
   "source": [
    "mock = mouse_dataset.assets[0].mock\n",
    "mock"
   ]
  },
  {
   "cell_type": "code",
   "execution_count": null,
   "id": "8e81513b-8237-4f42-8b95-048f99eb97f7",
   "metadata": {},
   "outputs": [],
   "source": [
    "@sy.syft_function(input_policy=sy.ExactMatch(mouse_data=mock),\n",
    "                  output_policy=sy.SingleExecutionExactOutput())\n",
    "def average_x_coordinatees(mouse_data):\n",
    "    import pandas as pd\n",
    "    from opendp.mod import enable_features\n",
    "    enable_features('contrib')\n",
    "    from opendp.measurements import make_base_laplace\n",
    "    aggregate = 0.\n",
    "    base_lap = make_base_laplace(scale=5.)\n",
    "    noise = base_lap(aggregate)\n",
    "\n",
    "    df = mouse_data\n",
    "    total = df['X'].mean()*df['resolutionX'].mean()\n",
    "    return (float(total)+float(noise))\n"
   ]
  },
  {
   "cell_type": "code",
   "execution_count": null,
   "id": "d255e8a5-984a-4f98-8c67-76c3710ea611",
   "metadata": {},
   "outputs": [],
   "source": [
    "sum_x_values(mouse_data=mock)"
   ]
  },
  {
   "cell_type": "code",
   "execution_count": null,
   "id": "f02484ec-6559-4d3f-bbac-aae56176efe6",
   "metadata": {},
   "outputs": [],
   "source": [
    "node_view = NodeView.from_api(guest_domain_client.api)\n",
    "assert node_view in sum_x_values.kwargs"
   ]
  },
  {
   "cell_type": "code",
   "execution_count": null,
   "id": "a1ec0635-2ec3-43ee-b865-bf504b9cea3e",
   "metadata": {},
   "outputs": [],
   "source": [
    "assert \"mouse_data\" in sum_x_values.kwargs[node_view]\n"
   ]
  },
  {
   "cell_type": "code",
   "execution_count": null,
   "id": "a7d7aff5-0abc-4de4-b54c-8cf9ed174aae",
   "metadata": {},
   "outputs": [],
   "source": [
    "assert sum_x_values.input_policy_init_kwargs[node_view][\"mouse_data\"] == mock.id\n"
   ]
  },
  {
   "cell_type": "code",
   "execution_count": null,
   "id": "8ceb0b3b-8350-4ece-9543-3e4a4717bee3",
   "metadata": {},
   "outputs": [],
   "source": [
    "sum_x_values"
   ]
  },
  {
   "cell_type": "code",
   "execution_count": null,
   "id": "28ac7b49-24ce-480d-b246-df32d6127741",
   "metadata": {},
   "outputs": [],
   "source": [
    "sum_x_values.code"
   ]
  },
  {
   "cell_type": "code",
   "execution_count": null,
   "id": "91131431-1179-47b0-879a-83806e643526",
   "metadata": {},
   "outputs": [],
   "source": [
    "submitted_req = guest_domain_client.api.services.code.request_code_execution(sum_x_values)\n"
   ]
  },
  {
   "cell_type": "code",
   "execution_count": null,
   "id": "41a7bc1f-91cb-43ee-83f2-f87691dea8b4",
   "metadata": {},
   "outputs": [],
   "source": [
    "assert len(guest_domain_client.api.services.code.get_all()) == 1\n"
   ]
  },
  {
   "cell_type": "code",
   "execution_count": null,
   "id": "df44943d-faa7-40da-8c14-5a7bb22b0bec",
   "metadata": {},
   "outputs": [],
   "source": [
    "project_create = sy.Project(\n",
    "    name=\"My Cool UN Project\",\n",
    "    description=\"\"\"Hi, I want to calculate the sum volume of x with my cool code.\"\"\",\n",
    "    shareholders=[guest_domain_client],\n",
    "    user_email_address = \"jane@caltech.edu\",\n",
    "    users = [guest_domain_client]\n",
    ")\n",
    "project_create"
   ]
  },
  {
   "cell_type": "code",
   "execution_count": null,
   "id": "cf450128-b0aa-4652-a554-e154de4a5f5a",
   "metadata": {},
   "outputs": [],
   "source": [
    "projects = project_create.start()"
   ]
  },
  {
   "cell_type": "code",
   "execution_count": null,
   "id": "679d8c33-d963-4017-bb4f-84cac8cb5d4a",
   "metadata": {},
   "outputs": [],
   "source": [
    "projects"
   ]
  },
  {
   "cell_type": "code",
   "execution_count": null,
   "id": "0972c828-bc28-4ab2-a93a-1bf2d7eb8457",
   "metadata": {},
   "outputs": [],
   "source": [
    "project = projects[0]"
   ]
  },
  {
   "cell_type": "code",
   "execution_count": null,
   "id": "61c4637d-367c-462d-b440-f452812c1d33",
   "metadata": {},
   "outputs": [],
   "source": [
    "project"
   ]
  },
  {
   "cell_type": "code",
   "execution_count": null,
   "id": "a100d193-6b85-418e-b3a7-e04943c588f4",
   "metadata": {},
   "outputs": [],
   "source": [
    "project.add_request(request=submitted_req)\n"
   ]
  },
  {
   "cell_type": "code",
   "execution_count": null,
   "id": "e7e5a3f3-155e-42bd-9bcf-95381e6d7e8e",
   "metadata": {},
   "outputs": [],
   "source": [
    "assert isinstance(project.events[0], sy.service.project.project.ProjectRequest)"
   ]
  },
  {
   "cell_type": "code",
   "execution_count": null,
   "id": "4e0e6568-2301-400f-a0b9-04ef4210259a",
   "metadata": {},
   "outputs": [],
   "source": [
    "result = guest_domain_client.api.services.code.sum_x_values(mouse_data=mock.id)\n",
    "result"
   ]
  },
  {
   "cell_type": "code",
   "execution_count": null,
   "id": "92f18593-f5bb-4215-9841-c1f3e57f62d3",
   "metadata": {},
   "outputs": [],
   "source": [
    "assert isinstance(result, sy.SyftNotReady)\n"
   ]
  },
  {
   "cell_type": "code",
   "execution_count": null,
   "id": "3fcb179c-9b6c-4d2f-8b83-56984c337dfe",
   "metadata": {},
   "outputs": [],
   "source": [
    "######################### review code \n"
   ]
  },
  {
   "cell_type": "code",
   "execution_count": null,
   "id": "0433af51-6be5-44f3-9105-057f8aa1a420",
   "metadata": {},
   "outputs": [],
   "source": [
    "domain_client = node.login(email=\"info@openmined.org\", password=\"changethis\")\n"
   ]
  },
  {
   "cell_type": "code",
   "execution_count": null,
   "id": "528aa8b5-8aba-47a1-afce-3cf8ae641398",
   "metadata": {},
   "outputs": [],
   "source": [
    "domain_client.notifications\n"
   ]
  },
  {
   "cell_type": "code",
   "execution_count": null,
   "id": "7c63e0c4-c42b-43b0-9eb2-72aa2d9a0150",
   "metadata": {},
   "outputs": [],
   "source": [
    "messages = domain_client.notifications.get_all_unread()\n",
    "messages"
   ]
  },
  {
   "cell_type": "code",
   "execution_count": null,
   "id": "2e611222-0637-491a-800a-ba87915204dd",
   "metadata": {},
   "outputs": [],
   "source": [
    "read_messages = domain_client.notifications.get_all_read()\n",
    "read_messages"
   ]
  },
  {
   "cell_type": "code",
   "execution_count": null,
   "id": "9e9c1d75-6948-41f0-8a1c-661d8dc3da17",
   "metadata": {},
   "outputs": [],
   "source": [
    "project_message = None\n",
    "for message in messages:\n",
    "    if issubclass(message.linked_obj.object_type, sy.service.project.project.Project):\n",
    "        project_message = message"
   ]
  },
  {
   "cell_type": "code",
   "execution_count": null,
   "id": "1d03eddb-6036-43b6-a235-f4028fcf0496",
   "metadata": {},
   "outputs": [],
   "source": [
    "project = project_message.link\n",
    "project"
   ]
  },
  {
   "cell_type": "code",
   "execution_count": null,
   "id": "081250f8-4bb0-40e9-91fa-3c3b326fe6cb",
   "metadata": {},
   "outputs": [],
   "source": [
    "assert isinstance(project.events[0], sy.service.project.project.ProjectRequest)\n"
   ]
  },
  {
   "cell_type": "code",
   "execution_count": null,
   "id": "9aabae55-4117-419a-b55d-b0d0dde245fd",
   "metadata": {},
   "outputs": [],
   "source": [
    "request = project.events[0].request\n",
    "request"
   ]
  },
  {
   "cell_type": "code",
   "execution_count": null,
   "id": "f26e9272-0fdb-4211-896e-02323526b9e7",
   "metadata": {},
   "outputs": [],
   "source": [
    "func = request.changes[0].link\n",
    "func"
   ]
  },
  {
   "cell_type": "code",
   "execution_count": null,
   "id": "63f9566b-b2bd-4795-92e7-266acc5641a6",
   "metadata": {},
   "outputs": [],
   "source": [
    "print(func.code)\n"
   ]
  },
  {
   "cell_type": "code",
   "execution_count": null,
   "id": "1c9db734-a695-4509-bb67-dc0c53b04184",
   "metadata": {},
   "outputs": [],
   "source": [
    "func.node_uid\n"
   ]
  },
  {
   "cell_type": "code",
   "execution_count": null,
   "id": "2efa9c1c-a71c-44ff-8ea9-71d8701b382f",
   "metadata": {},
   "outputs": [],
   "source": [
    "func.assets\n"
   ]
  },
  {
   "cell_type": "code",
   "execution_count": null,
   "id": "ee6bc994-4520-4cf7-823b-52b251aaffa4",
   "metadata": {},
   "outputs": [],
   "source": [
    "asset = func.assets[0]\n",
    "asset"
   ]
  },
  {
   "cell_type": "code",
   "execution_count": null,
   "id": "6368defa-9999-4203-ae62-a5e2c7be4b47",
   "metadata": {},
   "outputs": [],
   "source": [
    "mock = asset.mock\n",
    "mock"
   ]
  },
  {
   "cell_type": "code",
   "execution_count": null,
   "id": "e192987c-2bdb-4c58-8c9b-34fc27845417",
   "metadata": {},
   "outputs": [],
   "source": [
    "data = asset.data\n",
    "data"
   ]
  },
  {
   "cell_type": "code",
   "execution_count": null,
   "id": "7cd89c61-84a0-4283-9f3c-31e4a7370478",
   "metadata": {},
   "outputs": [],
   "source": [
    "op = func.output_policy_type\n",
    "op"
   ]
  },
  {
   "cell_type": "code",
   "execution_count": null,
   "id": "e53142f9-1626-4da0-9942-dc9d7d08ade8",
   "metadata": {},
   "outputs": [],
   "source": [
    "print(op.policy_code)\n"
   ]
  },
  {
   "cell_type": "code",
   "execution_count": null,
   "id": "d884090f-b0e0-4d45-b53a-fea01886e4e3",
   "metadata": {},
   "outputs": [],
   "source": [
    "print(func.raw_code)\n"
   ]
  },
  {
   "cell_type": "code",
   "execution_count": null,
   "id": "594791b0-d8c8-414e-b86f-018e9b27628e",
   "metadata": {},
   "outputs": [],
   "source": [
    "users_function = func.unsafe_function\n"
   ]
  },
  {
   "cell_type": "code",
   "execution_count": null,
   "id": "fd4ac603-8d0b-4911-8745-eed132520ebf",
   "metadata": {},
   "outputs": [],
   "source": [
    "real_result = users_function(mouse_data=data)\n",
    "real_result"
   ]
  },
  {
   "cell_type": "code",
   "execution_count": null,
   "id": "15902446-7e6e-46ba-a766-3f4dd24bd406",
   "metadata": {},
   "outputs": [],
   "source": [
    "result = request.accept_by_depositing_result(real_result)\n",
    "result"
   ]
  },
  {
   "cell_type": "code",
   "execution_count": null,
   "id": "c455ca0a-2e25-4c6d-8827-f7dd1757c8c3",
   "metadata": {},
   "outputs": [],
   "source": [
    "assert isinstance(result, sy.SyftSuccess)\n"
   ]
  },
  {
   "cell_type": "code",
   "execution_count": null,
   "id": "60301dd5-d4b4-488f-8d55-449725c6bec0",
   "metadata": {},
   "outputs": [],
   "source": [
    "########################### client download results"
   ]
  },
  {
   "cell_type": "code",
   "execution_count": null,
   "id": "b7d0eb2a-588b-4feb-93fc-ec2566adc6be",
   "metadata": {},
   "outputs": [],
   "source": [
    "guest_domain_client.login(email=\"jane@caltech.edu\", password=\"abc123\")\n"
   ]
  },
  {
   "cell_type": "code",
   "execution_count": null,
   "id": "0135e78d-1481-4d30-a2ba-6d1f1f1ebb74",
   "metadata": {},
   "outputs": [],
   "source": [
    "guest_domain_client.datasets"
   ]
  },
  {
   "cell_type": "code",
   "execution_count": null,
   "id": "5199dda6-47ef-421d-80c4-2b7baa4c333c",
   "metadata": {},
   "outputs": [],
   "source": [
    "asset = domain_client.datasets[0].assets[0].data\n",
    "asset"
   ]
  },
  {
   "cell_type": "code",
   "execution_count": null,
   "id": "bc489fa1-868d-48c6-a555-107129ca9c02",
   "metadata": {},
   "outputs": [],
   "source": [
    "real_result = domain_client.api.services.code.sum_x_values(mouse_data=asset)\n",
    "real_result"
   ]
  },
  {
   "cell_type": "code",
   "execution_count": null,
   "id": "7ab2928a-e61c-498d-82bc-4f01d9cb4e89",
   "metadata": {},
   "outputs": [],
   "source": [
    "ops = domain_client.api.services.code[-1].output_policy\n",
    "ops"
   ]
  },
  {
   "cell_type": "code",
   "execution_count": null,
   "id": "f10882db-bea5-463c-85fc-b8d53bca60a3",
   "metadata": {},
   "outputs": [],
   "source": []
  }
 ],
 "metadata": {
  "kernelspec": {
   "display_name": "Python 3 (ipykernel)",
   "language": "python",
   "name": "python3"
  },
  "language_info": {
   "codemirror_mode": {
    "name": "ipython",
    "version": 3
   },
   "file_extension": ".py",
   "mimetype": "text/x-python",
   "name": "python",
   "nbconvert_exporter": "python",
   "pygments_lexer": "ipython3",
   "version": "3.9.16"
  }
 },
 "nbformat": 4,
 "nbformat_minor": 5
}
