{
 "cells": [
  {
   "cell_type": "code",
   "execution_count": null,
   "id": "770a6a29-51ac-468b-9211-c61737d2e540",
   "metadata": {},
   "outputs": [],
   "source": [
    "import syft as sy\n",
    "sy.requires(SYFT_VERSION)\n",
    "from syft import autocache"
   ]
  },
  {
   "cell_type": "code",
   "execution_count": null,
   "id": "b815391a-de5f-4b10-8113-7b445d78c2f0",
   "metadata": {},
   "outputs": [
    {
     "name": "stdout",
     "output_type": "stream",
     "text": [
      "INFO:     127.0.0.1:54360 - \"POST /api/v2/api_call HTTP/1.1\" 200 OK\n",
      "INFO:     127.0.0.1:54364 - \"POST /api/v2/api_call HTTP/1.1\" 200 OK\n",
      "INFO:     127.0.0.1:54368 - \"POST /api/v2/api_call HTTP/1.1\" 200 OK\n",
      "INFO:     127.0.0.1:54372 - \"POST /api/v2/api_call HTTP/1.1\" 200 OK\n",
      "INFO:     127.0.0.1:54380 - \"POST /api/v2/api_call HTTP/1.1\" 200 OK\n",
      "INFO:     127.0.0.1:54384 - \"POST /api/v2/api_call HTTP/1.1\" 200 OK\n",
      "INFO:     127.0.0.1:54530 - \"POST /api/v2/api_call HTTP/1.1\" 200 OK\n",
      "INFO:     127.0.0.1:54534 - \"POST /api/v2/api_call HTTP/1.1\" 200 OK\n",
      "INFO:     127.0.0.1:54538 - \"POST /api/v2/api_call HTTP/1.1\" 200 OK\n",
      "INFO:     127.0.0.1:54550 - \"POST /api/v2/api_call HTTP/1.1\" 200 OK\n",
      "INFO:     127.0.0.1:54554 - \"GET /api/v2/metadata HTTP/1.1\" 200 OK\n"
     ]
    }
   ],
   "source": [
    "node = sy.orchestra.launch(name=\"test-domain_api-2\", port=\"auto\", dev_mode=True, reset=True)\n"
   ]
  },
  {
   "cell_type": "code",
   "execution_count": null,
   "id": "95321950-c0a4-427a-a6ce-f5ceebf02752",
   "metadata": {},
   "outputs": [],
   "source": [
    "domain_client = node.login(email=\"info@openmined.org\", password=\"changethis\")\n"
   ]
  },
  {
   "cell_type": "code",
   "execution_count": null,
   "id": "a58813e5-12f5-4799-8d42-20dcc7ff928e",
   "metadata": {},
   "outputs": [],
   "source": [
    "domain_client"
   ]
  },
  {
   "cell_type": "code",
   "execution_count": null,
   "id": "4ad03712-c09f-4b15-b6c0-ed4c670cc063",
   "metadata": {},
   "outputs": [],
   "source": [
    "domain_client.api\n"
   ]
  },
  {
   "cell_type": "code",
   "execution_count": null,
   "id": "d1135d53-7925-4bbf-a621-859982faf51f",
   "metadata": {},
   "outputs": [],
   "source": [
    "data_subjects = domain_client.api.services.data_subject.get_all()\n"
   ]
  },
  {
   "cell_type": "code",
   "execution_count": null,
   "id": "8c5567af-f6a1-4967-9019-28a4e8b6edc4",
   "metadata": {},
   "outputs": [],
   "source": [
    "data_subjects"
   ]
  },
  {
   "cell_type": "code",
   "execution_count": null,
   "id": "856ac32c-9045-48b8-8a46-b4d6dc9f4fea",
   "metadata": {},
   "outputs": [],
   "source": [
    "assert len(data_subjects) == 0\n"
   ]
  },
  {
   "cell_type": "code",
   "execution_count": null,
   "id": "793569c7-cb3b-4eaa-99ea-c6a23130f37f",
   "metadata": {},
   "outputs": [],
   "source": [
    "import glob\n",
    "import pandas as pd\n",
    "dfs = []\n",
    "filepaths = glob.glob('../datasets/EMAKI_preprocessed/mouse/*.csv')\n",
    "assert len(filepaths) > 0, 'Dataset not found! Have you already been converting it?'\n",
    "for filepath in filepaths:\n",
    "     filename = filepath.split('\\\\')[-1].split('/')[-1].split('.')[0]\n",
    "     dfs.append(pd.read_csv(filepath))"
   ]
  },
  {
   "cell_type": "code",
   "execution_count": null,
   "id": "66c31a24-4e40-44c7-a90d-9c6170c4fa89",
   "metadata": {},
   "outputs": [],
   "source": [
    "user = sy.DataSubject(name=\"user\", aliases=[\"user_code\"])\n",
    "dict = {}\n",
    "for i in range (39):\n",
    "   user.add_member(sy.DataSubject(name=f\"user {i}\", aliases=[f\"user_code {i}\"]))"
   ]
  },
  {
   "cell_type": "code",
   "execution_count": null,
   "id": "f42b812d-a7e1-4333-b14d-5bd9f98e0979",
   "metadata": {},
   "outputs": [],
   "source": [
    "registry = domain_client.data_subject_registry\n",
    "response = registry.add_data_subject(user)"
   ]
  },
  {
   "cell_type": "code",
   "execution_count": null,
   "id": "83021bfd-b687-4e0d-a154-d8d34a6f768a",
   "metadata": {},
   "outputs": [],
   "source": [
    "domain_client.data_subject_registry\n"
   ]
  },
  {
   "cell_type": "code",
   "execution_count": null,
   "id": "99074411-efdb-4c8c-8b3d-0ab2e5331255",
   "metadata": {},
   "outputs": [],
   "source": [
    "data_subjects = domain_client.api.services.data_subject.get_all()\n"
   ]
  },
  {
   "cell_type": "code",
   "execution_count": null,
   "id": "6285588c-0b54-4333-a2bd-ab10bd862704",
   "metadata": {},
   "outputs": [],
   "source": [
    "data_subjects"
   ]
  },
  {
   "cell_type": "code",
   "execution_count": null,
   "id": "a1f1b3c9-c07b-4d3c-9258-aea7c6b4cee8",
   "metadata": {},
   "outputs": [],
   "source": [
    "df = dfs[0]\n",
    "mouse_data=df[0:4000]\n",
    "mock_data=df[4000:8000]"
   ]
  },
  {
   "cell_type": "code",
   "execution_count": 159,
   "id": "f9d518ae-da89-43ed-bafe-e2820c357ed6",
   "metadata": {},
   "outputs": [
    {
     "data": {
      "text/plain": [
       "1370.896484375"
      ]
     },
     "execution_count": 159,
     "metadata": {},
     "output_type": "execute_result"
    }
   ],
   "source": [
    "mouse_data['x'].sum()"
   ]
  },
  {
   "cell_type": "code",
   "execution_count": null,
   "id": "79805473-a4f7-4af6-a8cf-b60bacdc99e5",
   "metadata": {},
   "outputs": [],
   "source": [
    "dataset = sy.Dataset(name=\"mouse data\")\n",
    "dataset.set_description(\"\"\"mouse data of first data frame for testing\"\"\")"
   ]
  },
  {
   "cell_type": "code",
   "execution_count": null,
   "id": "d973cd39-cedf-402f-b84b-7b6612e4e2c0",
   "metadata": {},
   "outputs": [],
   "source": [
    "dataset.add_citation(\"Person, place or thing\")\n",
    "dataset.add_url(\"https://github.com/OpenMined/datasets/tree/main/trade_flow\")"
   ]
  },
  {
   "cell_type": "code",
   "execution_count": null,
   "id": "5f2bbf0e-8b31-4fae-8ef2-6e97248e7c84",
   "metadata": {},
   "outputs": [],
   "source": [
    "dataset.add_contributor(role=sy.roles.UPLOADER, \n",
    "                                name=\"Andrew Trask\", \n",
    "                                email=\"andrew@openmined.org\",\n",
    "                                note=\"Andrew runs this domain and prepared the dataset metadata.\")\n",
    "\n",
    "dataset.add_contributor(role=sy.roles.EDITOR, \n",
    "                                name=\"Madhava Jay\", \n",
    "                                email=\"madhava@openmined.org\",\n",
    "                                note=\"Madhava tweaked the description to add the URL because Andrew forgot.\")"
   ]
  },
  {
   "cell_type": "code",
   "execution_count": null,
   "id": "cfee4d3b-cf9b-4cb2-9544-3e84168acb0d",
   "metadata": {},
   "outputs": [],
   "source": [
    "dataset.contributors\n"
   ]
  },
  {
   "cell_type": "code",
   "execution_count": null,
   "id": "8e48ac59-8171-421e-a78d-5c4e1c6e8616",
   "metadata": {},
   "outputs": [],
   "source": [
    "ctf = sy.Asset(name=\"mouse_data\")\n",
    "ctf.set_description(\"\"\"all the datas\"\"\")"
   ]
  },
  {
   "cell_type": "code",
   "execution_count": null,
   "id": "3dda33c1-fdff-42f3-9534-8756404cd52e",
   "metadata": {},
   "outputs": [],
   "source": [
    "ctf.add_contributor(role=sy.roles.UPLOADER, \n",
    "                      name=\"Andrew Trask\", \n",
    "                      email=\"andrew@openmined.org\",\n",
    "                      note=\"Andrew runs this domain and prepared the asset.\")"
   ]
  },
  {
   "cell_type": "code",
   "execution_count": null,
   "id": "6e3e87a4-8bb6-44f0-8669-aafb6773b6cd",
   "metadata": {},
   "outputs": [],
   "source": [
    "ctf.set_obj(mouse_data)\n",
    "ctf.set_shape((4000, 13))\n",
    "data_subject = data_subjects[2]\n",
    "ctf.add_data_subject(data_subject)"
   ]
  },
  {
   "cell_type": "code",
   "execution_count": null,
   "id": "b83075db-1c2c-4825-bc87-d48a933c4ce3",
   "metadata": {},
   "outputs": [],
   "source": [
    "dataset.add_asset(ctf)\n"
   ]
  },
  {
   "cell_type": "code",
   "execution_count": null,
   "id": "40172058-116d-4a3a-8d1d-5dd13ddd3b2c",
   "metadata": {},
   "outputs": [],
   "source": [
    "ctf.set_mock(mock_data, mock_is_real=True)\n"
   ]
  },
  {
   "cell_type": "code",
   "execution_count": null,
   "id": "bdc786a4-fe7c-42e2-8c5d-c1d2b2510618",
   "metadata": {},
   "outputs": [],
   "source": [
    "dataset.add_asset(ctf)\n"
   ]
  },
  {
   "cell_type": "code",
   "execution_count": null,
   "id": "1d288934-f16a-4976-b643-4d0dfec42ddf",
   "metadata": {},
   "outputs": [],
   "source": [
    "dataset.remove_asset(name=ctf.name)\n"
   ]
  },
  {
   "cell_type": "code",
   "execution_count": null,
   "id": "45c5e8ad-0621-4e7c-9e60-061ef7d2a6e9",
   "metadata": {},
   "outputs": [],
   "source": [
    "dataset"
   ]
  },
  {
   "cell_type": "code",
   "execution_count": null,
   "id": "f677d361-4222-4693-8a4f-5575f5984f2d",
   "metadata": {},
   "outputs": [],
   "source": [
    "domain_client.upload_dataset(dataset)\n"
   ]
  },
  {
   "cell_type": "code",
   "execution_count": null,
   "id": "2787a2ad-9cf0-4592-acda-15c8e79f756d",
   "metadata": {},
   "outputs": [],
   "source": [
    "datasets = domain_client.api.services.dataset.get_all()\n"
   ]
  },
  {
   "cell_type": "code",
   "execution_count": null,
   "id": "694b0441-9b85-426b-9ed5-025055869e2d",
   "metadata": {},
   "outputs": [],
   "source": [
    "real = domain_client.datasets[0].assets[0].data\n"
   ]
  },
  {
   "cell_type": "code",
   "execution_count": null,
   "id": "a9cdb4a6-5d4c-4b38-87b3-408755cc61d7",
   "metadata": {},
   "outputs": [],
   "source": [
    "real"
   ]
  },
  {
   "cell_type": "code",
   "execution_count": null,
   "id": "772b79bf-cd64-4f86-b0c1-55c138ba42a1",
   "metadata": {},
   "outputs": [],
   "source": [
    "assert mouse_data.equals(real.syft_action_data)\n"
   ]
  },
  {
   "cell_type": "code",
   "execution_count": null,
   "id": "97ba6c3d-97f8-46db-b3e9-a663b62182f5",
   "metadata": {},
   "outputs": [],
   "source": [
    "################################################## here we gonna take client expereince"
   ]
  },
  {
   "cell_type": "code",
   "execution_count": null,
   "id": "3f0c93f3-017c-4d82-8b53-db83ad50f940",
   "metadata": {},
   "outputs": [],
   "source": [
    "import syft as sy\n",
    "sy.requires(SYFT_VERSION)\n",
    "from syft.client.api import NodeView"
   ]
  },
  {
   "cell_type": "code",
   "execution_count": null,
   "id": "de608f07-4ade-4c31-8f0d-de5dbcb5f381",
   "metadata": {},
   "outputs": [],
   "source": [
    "guest_domain_client = node.client\n"
   ]
  },
  {
   "cell_type": "code",
   "execution_count": null,
   "id": "58ac8fa8-f523-42ca-b64a-8fd4da663c6a",
   "metadata": {},
   "outputs": [],
   "source": [
    "guest_credentials = guest_domain_client.credentials\n",
    "guest_credentials"
   ]
  },
  {
   "cell_type": "code",
   "execution_count": null,
   "id": "5f4cbcab-5848-49ec-b628-8e3a396c6187",
   "metadata": {},
   "outputs": [],
   "source": [
    "guest_domain_client.register(name=\"Jane Doe\", email=\"jane@caltech.edu\", password=\"abc123\", institution=\"Caltech\", website=\"https://www.caltech.edu/\")\n"
   ]
  },
  {
   "cell_type": "code",
   "execution_count": null,
   "id": "86bdb43d-791a-49fa-b347-cf146d36f478",
   "metadata": {},
   "outputs": [],
   "source": [
    "guest_domain_client.login(email=\"jane@caltech.edu\", password=\"abc123\")\n"
   ]
  },
  {
   "cell_type": "code",
   "execution_count": null,
   "id": "6b62ac92-1760-4499-b27c-4a91126af997",
   "metadata": {},
   "outputs": [],
   "source": [
    "assert guest_domain_client.credentials != guest_credentials\n"
   ]
  },
  {
   "cell_type": "code",
   "execution_count": null,
   "id": "de630c9a-21d6-401f-a0a1-5191cb15365b",
   "metadata": {},
   "outputs": [],
   "source": [
    "results = guest_domain_client.api.services.dataset.get_all()\n",
    "results"
   ]
  },
  {
   "cell_type": "code",
   "execution_count": null,
   "id": "0617e178-e27a-4471-b9d0-385990c4f76b",
   "metadata": {},
   "outputs": [],
   "source": [
    "dataset = results[-1]\n"
   ]
  },
  {
   "cell_type": "code",
   "execution_count": null,
   "id": "0476fe7f-3500-49f1-ac69-a0296fe63d15",
   "metadata": {},
   "outputs": [],
   "source": [
    "dataset"
   ]
  },
  {
   "cell_type": "code",
   "execution_count": 158,
   "id": "0d0bcef1-2ed2-47ef-827f-0c677461c6b0",
   "metadata": {},
   "outputs": [
    {
     "data": {
      "text/html": [
       "<div>\n",
       "<style scoped>\n",
       "    .dataframe tbody tr th:only-of-type {\n",
       "        vertical-align: middle;\n",
       "    }\n",
       "\n",
       "    .dataframe tbody tr th {\n",
       "        vertical-align: top;\n",
       "    }\n",
       "\n",
       "    .dataframe thead th {\n",
       "        text-align: right;\n",
       "    }\n",
       "</style>\n",
       "<table border=\"1\" class=\"dataframe\">\n",
       "  <thead>\n",
       "    <tr style=\"text-align: right;\">\n",
       "      <th></th>\n",
       "      <th>user</th>\n",
       "      <th>session</th>\n",
       "      <th>task</th>\n",
       "      <th>timestamp</th>\n",
       "      <th>x</th>\n",
       "      <th>y</th>\n",
       "      <th>O</th>\n",
       "      <th>C</th>\n",
       "      <th>E</th>\n",
       "      <th>A</th>\n",
       "      <th>N</th>\n",
       "      <th>left_pressed</th>\n",
       "      <th>right_pressed</th>\n",
       "    </tr>\n",
       "  </thead>\n",
       "  <tbody>\n",
       "    <tr>\n",
       "      <th>4000</th>\n",
       "      <td>13</td>\n",
       "      <td>1</td>\n",
       "      <td>3</td>\n",
       "      <td>1616765168959</td>\n",
       "      <td>0.115234</td>\n",
       "      <td>0.411356</td>\n",
       "      <td>0</td>\n",
       "      <td>1</td>\n",
       "      <td>1</td>\n",
       "      <td>0</td>\n",
       "      <td>0</td>\n",
       "      <td>1</td>\n",
       "      <td>0</td>\n",
       "    </tr>\n",
       "    <tr>\n",
       "      <th>4001</th>\n",
       "      <td>13</td>\n",
       "      <td>1</td>\n",
       "      <td>3</td>\n",
       "      <td>1616765168976</td>\n",
       "      <td>0.114583</td>\n",
       "      <td>0.411356</td>\n",
       "      <td>0</td>\n",
       "      <td>1</td>\n",
       "      <td>1</td>\n",
       "      <td>0</td>\n",
       "      <td>0</td>\n",
       "      <td>1</td>\n",
       "      <td>0</td>\n",
       "    </tr>\n",
       "    <tr>\n",
       "      <th>4002</th>\n",
       "      <td>13</td>\n",
       "      <td>1</td>\n",
       "      <td>3</td>\n",
       "      <td>1616765168992</td>\n",
       "      <td>0.113932</td>\n",
       "      <td>0.411356</td>\n",
       "      <td>0</td>\n",
       "      <td>1</td>\n",
       "      <td>1</td>\n",
       "      <td>0</td>\n",
       "      <td>0</td>\n",
       "      <td>1</td>\n",
       "      <td>0</td>\n",
       "    </tr>\n",
       "    <tr>\n",
       "      <th>4003</th>\n",
       "      <td>13</td>\n",
       "      <td>1</td>\n",
       "      <td>3</td>\n",
       "      <td>1616765169009</td>\n",
       "      <td>0.112630</td>\n",
       "      <td>0.411356</td>\n",
       "      <td>0</td>\n",
       "      <td>1</td>\n",
       "      <td>1</td>\n",
       "      <td>0</td>\n",
       "      <td>0</td>\n",
       "      <td>1</td>\n",
       "      <td>0</td>\n",
       "    </tr>\n",
       "    <tr>\n",
       "      <th>4004</th>\n",
       "      <td>13</td>\n",
       "      <td>1</td>\n",
       "      <td>3</td>\n",
       "      <td>1616765169026</td>\n",
       "      <td>0.111979</td>\n",
       "      <td>0.411356</td>\n",
       "      <td>0</td>\n",
       "      <td>1</td>\n",
       "      <td>1</td>\n",
       "      <td>0</td>\n",
       "      <td>0</td>\n",
       "      <td>1</td>\n",
       "      <td>0</td>\n",
       "    </tr>\n",
       "    <tr>\n",
       "      <th>...</th>\n",
       "      <td>...</td>\n",
       "      <td>...</td>\n",
       "      <td>...</td>\n",
       "      <td>...</td>\n",
       "      <td>...</td>\n",
       "      <td>...</td>\n",
       "      <td>...</td>\n",
       "      <td>...</td>\n",
       "      <td>...</td>\n",
       "      <td>...</td>\n",
       "      <td>...</td>\n",
       "      <td>...</td>\n",
       "      <td>...</td>\n",
       "    </tr>\n",
       "    <tr>\n",
       "      <th>7995</th>\n",
       "      <td>13</td>\n",
       "      <td>1</td>\n",
       "      <td>4</td>\n",
       "      <td>1616765593168</td>\n",
       "      <td>0.481771</td>\n",
       "      <td>0.417149</td>\n",
       "      <td>0</td>\n",
       "      <td>1</td>\n",
       "      <td>1</td>\n",
       "      <td>0</td>\n",
       "      <td>0</td>\n",
       "      <td>0</td>\n",
       "      <td>0</td>\n",
       "    </tr>\n",
       "    <tr>\n",
       "      <th>7996</th>\n",
       "      <td>13</td>\n",
       "      <td>1</td>\n",
       "      <td>4</td>\n",
       "      <td>1616765593185</td>\n",
       "      <td>0.486328</td>\n",
       "      <td>0.417149</td>\n",
       "      <td>0</td>\n",
       "      <td>1</td>\n",
       "      <td>1</td>\n",
       "      <td>0</td>\n",
       "      <td>0</td>\n",
       "      <td>0</td>\n",
       "      <td>0</td>\n",
       "    </tr>\n",
       "    <tr>\n",
       "      <th>7997</th>\n",
       "      <td>13</td>\n",
       "      <td>1</td>\n",
       "      <td>4</td>\n",
       "      <td>1616765593202</td>\n",
       "      <td>0.490234</td>\n",
       "      <td>0.417149</td>\n",
       "      <td>0</td>\n",
       "      <td>1</td>\n",
       "      <td>1</td>\n",
       "      <td>0</td>\n",
       "      <td>0</td>\n",
       "      <td>0</td>\n",
       "      <td>0</td>\n",
       "    </tr>\n",
       "    <tr>\n",
       "      <th>7998</th>\n",
       "      <td>13</td>\n",
       "      <td>1</td>\n",
       "      <td>4</td>\n",
       "      <td>1616765593219</td>\n",
       "      <td>0.492188</td>\n",
       "      <td>0.417149</td>\n",
       "      <td>0</td>\n",
       "      <td>1</td>\n",
       "      <td>1</td>\n",
       "      <td>0</td>\n",
       "      <td>0</td>\n",
       "      <td>0</td>\n",
       "      <td>0</td>\n",
       "    </tr>\n",
       "    <tr>\n",
       "      <th>7999</th>\n",
       "      <td>13</td>\n",
       "      <td>1</td>\n",
       "      <td>4</td>\n",
       "      <td>1616765593237</td>\n",
       "      <td>0.493490</td>\n",
       "      <td>0.417149</td>\n",
       "      <td>0</td>\n",
       "      <td>1</td>\n",
       "      <td>1</td>\n",
       "      <td>0</td>\n",
       "      <td>0</td>\n",
       "      <td>0</td>\n",
       "      <td>0</td>\n",
       "    </tr>\n",
       "  </tbody>\n",
       "</table>\n",
       "<p>4000 rows × 13 columns</p>\n",
       "</div>"
      ],
      "text/markdown": [
       "```python\n",
       "TwinPointer(Mock)\n",
       "```\n",
       "      user  session  task      timestamp         x         y  O  C  E  A  N  \\\n",
       "4000    13        1     3  1616765168959  0.115234  0.411356  0  1  1  0  0   \n",
       "4001    13        1     3  1616765168976  0.114583  0.411356  0  1  1  0  0   \n",
       "4002    13        1     3  1616765168992  0.113932  0.411356  0  1  1  0  0   \n",
       "4003    13        1     3  1616765169009  0.112630  0.411356  0  1  1  0  0   \n",
       "4004    13        1     3  1616765169026  0.111979  0.411356  0  1  1  0  0   \n",
       "...    ...      ...   ...            ...       ...       ... .. .. .. .. ..   \n",
       "7995    13        1     4  1616765593168  0.481771  0.417149  0  1  1  0  0   \n",
       "7996    13        1     4  1616765593185  0.486328  0.417149  0  1  1  0  0   \n",
       "7997    13        1     4  1616765593202  0.490234  0.417149  0  1  1  0  0   \n",
       "7998    13        1     4  1616765593219  0.492188  0.417149  0  1  1  0  0   \n",
       "7999    13        1     4  1616765593237  0.493490  0.417149  0  1  1  0  0   \n",
       "\n",
       "      left_pressed  right_pressed  \n",
       "4000             1              0  \n",
       "4001             1              0  \n",
       "4002             1              0  \n",
       "4003             1              0  \n",
       "4004             1              0  \n",
       "...            ...            ...  \n",
       "7995             0              0  \n",
       "7996             0              0  \n",
       "7997             0              0  \n",
       "7998             0              0  \n",
       "7999             0              0  \n",
       "\n",
       "[4000 rows x 13 columns]"
      ],
      "text/plain": [
       "TwinPointer(Mock):\n",
       "      user  session  task      timestamp         x         y  O  C  E  A  N  \\\n",
       "4000    13        1     3  1616765168959  0.115234  0.411356  0  1  1  0  0   \n",
       "4001    13        1     3  1616765168976  0.114583  0.411356  0  1  1  0  0   \n",
       "4002    13        1     3  1616765168992  0.113932  0.411356  0  1  1  0  0   \n",
       "4003    13        1     3  1616765169009  0.112630  0.411356  0  1  1  0  0   \n",
       "4004    13        1     3  1616765169026  0.111979  0.411356  0  1  1  0  0   \n",
       "...    ...      ...   ...            ...       ...       ... .. .. .. .. ..   \n",
       "7995    13        1     4  1616765593168  0.481771  0.417149  0  1  1  0  0   \n",
       "7996    13        1     4  1616765593185  0.486328  0.417149  0  1  1  0  0   \n",
       "7997    13        1     4  1616765593202  0.490234  0.417149  0  1  1  0  0   \n",
       "7998    13        1     4  1616765593219  0.492188  0.417149  0  1  1  0  0   \n",
       "7999    13        1     4  1616765593237  0.493490  0.417149  0  1  1  0  0   \n",
       "\n",
       "      left_pressed  right_pressed  \n",
       "4000             1              0  \n",
       "4001             1              0  \n",
       "4002             1              0  \n",
       "4003             1              0  \n",
       "4004             1              0  \n",
       "...            ...            ...  \n",
       "7995             0              0  \n",
       "7996             0              0  \n",
       "7997             0              0  \n",
       "7998             0              0  \n",
       "7999             0              0  \n",
       "\n",
       "[4000 rows x 13 columns]"
      ]
     },
     "execution_count": 158,
     "metadata": {},
     "output_type": "execute_result"
    }
   ],
   "source": [
    "mock = dataset.assets[0].mock\n",
    "mock"
   ]
  },
  {
   "cell_type": "code",
   "execution_count": 160,
   "id": "8e81513b-8237-4f42-8b95-048f99eb97f7",
   "metadata": {},
   "outputs": [],
   "source": [
    "@sy.syft_function(input_policy=sy.ExactMatch(mouse_data=mock),\n",
    "                  output_policy=sy.SingleExecutionExactOutput())\n",
    "def sum_x_values(mouse_data):\n",
    "    import pandas as pd\n",
    "    from opendp.mod import enable_features\n",
    "    enable_features('contrib')\n",
    "    from opendp.measurements import make_base_laplace\n",
    "    aggregate = 0.\n",
    "    base_lap = make_base_laplace(scale=5.)\n",
    "    noise = base_lap(aggregate)\n",
    "\n",
    "    df = mouse_data\n",
    "    total = df[\"x\"].sum()\n",
    "    return (float(total), float(noise))\n"
   ]
  },
  {
   "cell_type": "code",
   "execution_count": 161,
   "id": "d255e8a5-984a-4f98-8c67-76c3710ea611",
   "metadata": {},
   "outputs": [
    {
     "name": "stdout",
     "output_type": "stream",
     "text": [
      "11.348647674264857\n"
     ]
    },
    {
     "data": {
      "text/plain": [
       "(1727.0104166666665, 11.348647674264857)"
      ]
     },
     "execution_count": 161,
     "metadata": {},
     "output_type": "execute_result"
    }
   ],
   "source": [
    "sum_x_values(mouse_data=mock)"
   ]
  },
  {
   "cell_type": "code",
   "execution_count": null,
   "id": "f02484ec-6559-4d3f-bbac-aae56176efe6",
   "metadata": {},
   "outputs": [],
   "source": []
  }
 ],
 "metadata": {
  "kernelspec": {
   "display_name": "Python 3 (ipykernel)",
   "language": "python",
   "name": "python3"
  },
  "language_info": {
   "codemirror_mode": {
    "name": "ipython",
    "version": 3
   },
   "file_extension": ".py",
   "mimetype": "text/x-python",
   "name": "python",
   "nbconvert_exporter": "python",
   "pygments_lexer": "ipython3",
   "version": "3.9.16"
  }
 },
 "nbformat": 4,
 "nbformat_minor": 5
}
