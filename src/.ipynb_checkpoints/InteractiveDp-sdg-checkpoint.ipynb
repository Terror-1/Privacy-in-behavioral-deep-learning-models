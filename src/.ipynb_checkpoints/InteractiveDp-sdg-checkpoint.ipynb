{
 "cells": [
  {
   "cell_type": "markdown",
   "id": "186e2ab9-3dac-41f3-8574-96740daa2bb4",
   "metadata": {},
   "source": [
    "# Dependencies"
   ]
  },
  {
   "cell_type": "code",
   "execution_count": 51,
   "id": "6480d4db-5ab8-4617-af61-d11b79422f78",
   "metadata": {},
   "outputs": [],
   "source": [
    "import tensorflow as tf\n",
    "import numpy as np\n",
    "import tensorflow_privacy\n",
    "from tensorflow_privacy.privacy.analysis import compute_dp_sgd_privacy_lib\n",
    "import pandas as pd\n",
    "import matplotlib.pyplot as plt\n",
    "from keras.layers import Bidirectional, GRU, Dense\n",
    "from keras.models import Sequential\n",
    "from dataloader import load_mouse_data\n",
    "from dataloader import load_keyboard_data,load_combined_dataset,create_sliding_windows\n",
    "import ipywidgets as widgets\n",
    "from IPython.display import display\n",
    "from ipywidgets import HBox\n",
    "\n",
    "tf.get_logger().setLevel('ERROR')\n"
   ]
  },
  {
   "cell_type": "markdown",
   "id": "8bc3998d-1985-4bda-872e-24807dd21208",
   "metadata": {},
   "source": [
    "# Loading the data"
   ]
  },
  {
   "cell_type": "code",
   "execution_count": 17,
   "id": "3ca30bb2-0214-4dba-a9cc-040448c85c79",
   "metadata": {},
   "outputs": [],
   "source": [
    "X_train, X_test, y_train, y_test = load_mouse_data()\n"
   ]
  },
  {
   "cell_type": "markdown",
   "id": "04227fc8-76f6-47cf-b706-7e3c2f92a0f0",
   "metadata": {},
   "source": [
    "# create window"
   ]
  },
  {
   "cell_type": "code",
   "execution_count": 19,
   "id": "7f4b7ab2-6982-4499-840f-4813a9c70226",
   "metadata": {},
   "outputs": [],
   "source": [
    "X_train, y_train = create_sliding_windows(X_train, y_train)\n",
    "X_test, y_test = create_sliding_windows(X_test, y_test)"
   ]
  },
  {
   "cell_type": "markdown",
   "id": "926ddf8d-71c7-440a-aba0-f7b3ca787caf",
   "metadata": {},
   "source": [
    "# Initial hyperparameters"
   ]
  },
  {
   "cell_type": "code",
   "execution_count": 20,
   "id": "e5e78566-dda1-4e42-b283-773056dbce06",
   "metadata": {},
   "outputs": [],
   "source": [
    "dpsgd = True\n",
    "input_dim = X_train.shape[2]\n",
    "num_classes = 6\n",
    "batch_size = 256\n",
    "delta = training_length**(-3/2)\n",
    "training_length = len(X_train)\n",
    "testing_length = len(X_test)\n",
    "training_size = 0.8\n",
    "num_microbatches = 8\n"
   ]
  },
  {
   "cell_type": "code",
   "execution_count": 44,
   "id": "d4368d92-27fd-42d2-bbdd-67b85b39fa63",
   "metadata": {},
   "outputs": [],
   "source": [
    "inital_epochs = 100\n",
    "inital_l2_norm_clip = 1.5\n",
    "initial_noise_multiplier = 1.1\n",
    "initial_learning_rate = 0.001\n"
   ]
  },
  {
   "cell_type": "markdown",
   "id": "c175d70e-d023-49d9-a991-eca6bb50c9eb",
   "metadata": {},
   "source": [
    "## make X_train and X_test divisible by num_microbatckes\n"
   ]
  },
  {
   "cell_type": "code",
   "execution_count": 9,
   "id": "9b8194c6-ab1b-44b6-b6f5-8ee85e6a4727",
   "metadata": {},
   "outputs": [],
   "source": [
    "training_length = ((training_length)-(training_length%num_microbatches))\n",
    "testing_length = ((testing_length)-(testing_length%num_microbatches))\n",
    "X_train = X_train[:training_length]\n",
    "y_train = y_train[:training_length]\n",
    "X_test = X_test[:testing_length]\n",
    "y_test = y_test[:testing_length]\n"
   ]
  },
  {
   "cell_type": "code",
   "execution_count": 40,
   "id": "f3d39035-4200-41fb-b34c-7b130c1ec0d1",
   "metadata": {},
   "outputs": [],
   "source": [
    "def neural_network(learning_rate, epochs, l2_norm_clip, noise_multiplier):\n",
    "    model = Sequential()\n",
    "    model.add(Bidirectional(GRU(128, return_sequences=True), input_shape=(X_train.shape[1], X_train.shape[2])))\n",
    "    model.add(Dense(64, activation='relu'))\n",
    "    model.add(Dense(num_classes, activation='softmax'))\n",
    "    loss = tf.keras.losses.CategoricalCrossentropy(reduction=tf.losses.Reduction.NONE)\n",
    "    if dpsgd:\n",
    "        optimizer = tensorflow_privacy.DPKerasAdamOptimizer(l2_norm_clip=l2_norm_clip,num_microbatches=num_microbatches,noise_multiplier=noise_multiplier,learning_rate=learning_rate)\n",
    "    else :\n",
    "        optimizer = tf.keras.optimizers.Adam(learning_rate=learning_rate)\n",
    "    \n",
    "    \n",
    "    model.compile(optimizer=optimizer, loss=loss, metrics=['accuracy'])\n",
    "    history = model.fit(X_train, y_train,\n",
    "        epochs=epochs,\n",
    "        validation_data=(X_test, y_test),\n",
    "        batch_size=batch_size)\n",
    "    train_loss_history = history.history['loss']\n",
    "    val_loss_history = history.history['val_loss']\n",
    "    train_accuracy_history = history.history['accuracy']\n",
    "    val_accuracy_history = history.history['val_accuracy']\n",
    "    train_loss_mean = np.mean(train_loss_history)\n",
    "    val_loss_mean = np.mean(val_loss_history)\n",
    "    train_accuracy_mean = np.mean(train_accuracy_history)\n",
    "    val_accuracy_mean = np.mean(val_accuracy_history)\n",
    "    loss, accuracy = model.evaluate(X_test, y_test)\n",
    "    return train_loss_mean,val_loss_mean,train_accuracy_mean,val_accuracy_mean,loss,accuracy\n",
    " "
   ]
  },
  {
   "cell_type": "code",
   "execution_count": 47,
   "id": "0113d5ff-48b3-437d-9fa7-60c593203f71",
   "metadata": {},
   "outputs": [],
   "source": [
    "# Create sliders for each hyperparameter\n",
    "learning_rate_slider= widgets.FloatSlider(value=initial_learning_rate, min=0.0001, max=0.1, step=0.0099, description='learning rate:',continuous_update=False)\n",
    "epochs_slider = widgets.FloatSlider(value=inital_epochs, min=1, max=100, step=1, description='epochs :',continuous_update=False)\n",
    "L2_norm_clip_slider = widgets.FloatSlider(value=inital_l2_norm_clip, min=0.1, max=2, step=0.01, description='L2_norm_clip :',continuous_update=False)\n",
    "noise_multiplier_slider = widgets.FloatSlider(value=initial_noise_multiplier, min=0.01, max=5.00, step=0.01, description='noise_multiplier :',continuous_update=False)\n"
   ]
  },
  {
   "cell_type": "code",
   "execution_count": 49,
   "id": "b2c9f7ad-1ae8-4767-96af-4639988943af",
   "metadata": {},
   "outputs": [],
   "source": [
    "def update_output(change):\n",
    "    print(\"heelo\")\n",
    "    learning_rate = learning_rate_slider.value\n",
    "    epochs = epochs_slider.value\n",
    "    l2_norm_clip = L2_norm_clip_slider.value\n",
    "    noise_multiplier = noise_multiplier_slider.value\n",
    "\n",
    "    train_loss_mean,val_loss_mean,train_accuracy_mean,val_accuracy_mean,loss,accuracy = neural_network(learning_rate, epochs, l2_norm_clip, noise_multiplier)\n",
    "\n",
    "    print(f\"Output: {loss}\")\n"
   ]
  },
  {
   "cell_type": "code",
   "execution_count": 38,
   "id": "3726ddad-722c-472c-93b8-1861ca01d000",
   "metadata": {},
   "outputs": [],
   "source": [
    "learning_rate_slider.observe(update_output, names='value')\n",
    "epochs_slider.observe(update_output, names='value')\n",
    "L2_norm_clip_slider.observe(update_output, names='value')\n",
    "noise_multiplier_slider.observe(update_output, names='value')\n"
   ]
  },
  {
   "cell_type": "code",
   "execution_count": 52,
   "id": "3c7a68c0-5874-4ef4-a5d0-90edead6fac5",
   "metadata": {},
   "outputs": [
    {
     "data": {
      "application/vnd.jupyter.widget-view+json": {
       "model_id": "1705c444e8aa44709d6237634c64be54",
       "version_major": 2,
       "version_minor": 0
      },
      "text/plain": [
       "HBox(children=(FloatSlider(value=0.0694, continuous_update=False, description='learning rate:', max=0.1, min=0…"
      ]
     },
     "metadata": {},
     "output_type": "display_data"
    },
    {
     "data": {
      "application/vnd.jupyter.widget-view+json": {
       "model_id": "854f341c7ec24a608a0ce10db91889a8",
       "version_major": 2,
       "version_minor": 0
      },
      "text/plain": [
       "HBox(children=(FloatSlider(value=2.0, continuous_update=False, description='L2_norm_clip :', max=2.0, min=0.1,…"
      ]
     },
     "metadata": {},
     "output_type": "display_data"
    }
   ],
   "source": [
    "display(HBox([learning_rate_slider, epochs_slider]))\n",
    "display(HBox([L2_norm_clip_slider, noise_multiplier_slider]))"
   ]
  },
  {
   "cell_type": "code",
   "execution_count": null,
   "id": "34459c25-a2d7-42d5-8b0e-b14b6336b21f",
   "metadata": {},
   "outputs": [],
   "source": []
  }
 ],
 "metadata": {
  "kernelspec": {
   "display_name": "Python 3 (ipykernel)",
   "language": "python",
   "name": "python3"
  },
  "language_info": {
   "codemirror_mode": {
    "name": "ipython",
    "version": 3
   },
   "file_extension": ".py",
   "mimetype": "text/x-python",
   "name": "python",
   "nbconvert_exporter": "python",
   "pygments_lexer": "ipython3",
   "version": "3.9.16"
  }
 },
 "nbformat": 4,
 "nbformat_minor": 5
}
