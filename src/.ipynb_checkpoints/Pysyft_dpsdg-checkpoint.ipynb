{
 "cells": [
  {
   "cell_type": "code",
   "execution_count": 2,
   "id": "c23a69b4-4fb7-4bf2-9c40-35349f0e50ee",
   "metadata": {},
   "outputs": [
    {
     "name": "stderr",
     "output_type": "stream",
     "text": [
      "kj/filesystem-disk-unix.c++:1703: warning: PWD environment variable doesn't match current directory; pwd = /home/hossam/Privacy-in-behavioral-deep-learning-models\n"
     ]
    },
    {
     "name": "stdout",
     "output_type": "stream",
     "text": [
      "✅ The installed version of syft==0.8.1 matches the requirement >=0.8.1 and the requirement <0.8.2\n",
      "Starting my-domain server on 0.0.0.0:8080\n",
      "\n",
      "WARNING: private key is based on node name: my-domain in dev_mode. Don't run this in production.\n",
      "Waiting for server to start"
     ]
    },
    {
     "name": "stderr",
     "output_type": "stream",
     "text": [
      "INFO:     Started server process [2857]\n",
      "INFO:     Waiting for application startup.\n",
      "INFO:     Application startup complete.\n",
      "INFO:     Uvicorn running on http://0.0.0.0:8080 (Press CTRL+C to quit)\n"
     ]
    },
    {
     "name": "stdout",
     "output_type": "stream",
     "text": [
      ".INFO:     127.0.0.1:53942 - \"GET /api/v2/metadata HTTP/1.1\" 200 OK\n",
      ". Done.\n",
      "INFO:     127.0.0.1:53946 - \"GET /api/v2/metadata HTTP/1.1\" 200 OK\n",
      "INFO:     127.0.0.1:53946 - \"POST /api/v2/login HTTP/1.1\" 200 OK\n",
      "INFO:     127.0.0.1:53946 - \"GET /api/v2/api?verify_key=5dbabaa72580ce3689cc91171841bfe62fe836425c1718f8cdac96d50212b61f HTTP/1.1\" 200 OK\n"
     ]
    }
   ],
   "source": [
    "# from Jupyter / Python\n",
    "import syft as sy\n",
    "sy.requires(\">=0.8.1,<0.8.2\")\n",
    "node = sy.orchestra.launch(name=\"my-domain\", port=8080, dev_mode=True, reset=True)"
   ]
  },
  {
   "cell_type": "code",
   "execution_count": 3,
   "id": "4d6cc2c5-5eb7-46ac-8955-542d6cb3016b",
   "metadata": {},
   "outputs": [
    {
     "name": "stdout",
     "output_type": "stream",
     "text": [
      "Logged into my-domain as <info@openmined.org>\n"
     ]
    }
   ],
   "source": [
    "domain_client = node.login(email=\"info@openmined.org\", password=\"changethis\")\n"
   ]
  },
  {
   "cell_type": "code",
   "execution_count": 4,
   "id": "e53eb7e0-b724-49fd-b528-96f2f876e802",
   "metadata": {},
   "outputs": [
    {
     "name": "stderr",
     "output_type": "stream",
     "text": [
      "2023-07-06 22:13:27.979925: W tensorflow/compiler/tf2tensorrt/utils/py_utils.cc:38] TF-TRT Warning: Could not find TensorRT\n"
     ]
    }
   ],
   "source": [
    "import pandas as pd\n",
    "import numpy as np\n",
    "from sklearn.model_selection import train_test_split\n",
    "from keras.utils import to_categorical, plot_model\n",
    "\n",
    "\n",
    "db=pd.read_pickle(\"../datasets/sample.pkl\")\n",
    "mouse_data = db[db['type'].isin(['mousemove', 'mousedown', 'mouseup'])]\n",
    "keyboard_data = db[db['type'].isin(['keyup', 'keydown'])]\n",
    "keyboard_data=keyboard_data.drop(['ID', 'INVALID', 'X', 'Y', 'resolutionX', 'resolutionY', 'mu'], axis=1)\n",
    "mouse_data=mouse_data.drop(['ID', 'INVALID', 'type', 'value', 'mu'], axis=1)\n",
    "keystrokes = keyboard_data['value'].unique()\n",
    "def load_mouse_data():\n",
    "    USERS = set(mouse_data['user'])\n",
    "    X_train = pd.DataFrame(columns = ['O','C','E','A','N'])\n",
    "    X_test  = pd.DataFrame(columns = ['O','C','E','A','N'])\n",
    "    y_train = pd.DataFrame()\n",
    "    y_test  = pd.DataFrame()\n",
    "    for index,user in enumerate(USERS) :\n",
    "     X_user= mouse_data[mouse_data['user']==user]\n",
    "     X = X_user[['O','C','E','A','N']]\n",
    "     y = X_user['user']\n",
    "     X_train_user, X_test_user, y_train_user, y_test_user = train_test_split(X, y, test_size=0.2, random_state=42)\n",
    "     X_train = pd.concat([X_train,X_train_user])\n",
    "     X_test= pd.concat([X_test,X_test_user])\n",
    "     y_train = pd.concat([y_train,y_train_user])\n",
    "     y_test= pd.concat([y_test,y_test_user])\n",
    "    y_train = to_categorical(y_train)\n",
    "    y_test = to_categorical(y_test)\n",
    "    return  X_train.astype('float32'), X_test.astype('float32'),y_train.astype('float32'), y_test.astype('float32')"
   ]
  },
  {
   "cell_type": "code",
   "execution_count": null,
   "id": "8828bed9-e2ab-4d6e-92db-d01284356788",
   "metadata": {},
   "outputs": [],
   "source": [
    "import os \n",
    "os.environ['TF_CPP_MIN_LOG_LEVEL'] = '2'\n",
    "\n",
    "import tensorflow as tf\n",
    "import tensorflow_privacy\n",
    "from tensorflow_privacy.privacy.analysis import compute_dp_sgd_privacy_lib\n",
    "import pandas as pd\n",
    "from dataloader import load_mouse_data\n",
    "tf.get_logger().setLevel('ERROR')\n",
    "\n",
    "# Load the training and validation data\n",
    "X_train, X_test, y_train, y_test = load_mouse_data()\n",
    "train_dataset = tf.data.Dataset.from_tensor_slices(X_train)\n",
    "test_dataset = tf.data.Dataset.from_tensor_slices(X_test)\n",
    "train_labels_dataset = tf.data.Dataset.from_tensor_slices(y_train)\n",
    "test_labels_dataset = tf.data.Dataset.from_tensor_slices(y_test)\n",
    "\n",
    "dpsgd = True\n",
    "input_dim = 5\n",
    "num_classes = 40\n",
    "epochs = 10\n",
    "batch_size = 64\n",
    "training_size = 0.8\n",
    "training_length = len(X_train)\n",
    "testing_length = len(X_test)\n",
    "l2_norm_clip = 1.0\n",
    "noise_multiplier = 1.1\n",
    "num_microbatches = 128\n",
    "learning_rate = 0.001\n",
    "\n",
    "combined_train_dataset = tf.data.Dataset.zip((train_dataset, train_labels_dataset)).batch(batch_size)\n",
    "combined_test_dataset= tf.data.Dataset.zip((test_dataset, test_labels_dataset)).batch(batch_size)\n",
    "model = tf.keras.Sequential([\n",
    "    tf.keras.layers.Dense(32, activation='relu', input_shape=(input_dim,)),\n",
    "    tf.keras.layers.Dense(16, activation='relu'),\n",
    "    tf.keras.layers.Dense(num_classes, activation='softmax')\n",
    "])\n",
    "\n",
    "\n",
    "loss = tf.keras.losses.CategoricalCrossentropy(reduction=tf.losses.Reduction.NONE)\n",
    "if dpsgd:\n",
    "    optimizer = tensorflow_privacy.DPKerasAdamOptimizer(l2_norm_clip=l2_norm_clip,noise_multiplier=noise_multiplier,learning_rate=learning_rate)\n",
    "else :\n",
    "    optimizer = tf.keras.optimizers.Adam(learning_rate=learning_rate)\n",
    "\n",
    "\n",
    "model.compile(optimizer=optimizer, loss=loss, metrics=['accuracy'])\n",
    "print(\"Train on {training_length} samples, validate on {testing_length} samples\".format(training_length=training_length, testing_length=testing_length))\n",
    "model.fit(X_train, y_train,\n",
    "          epochs=epochs,\n",
    "          validation_data=(X_test, y_test),\n",
    "          batch_size=batch_size)\n",
    "\n",
    "loss, accuracy = model.evaluate(X_test, y_test)\n",
    "print(\"Loss:\", loss)\n",
    "print(\"Accuracy:\", accuracy)\n",
    "\n",
    "privacy_report=compute_dp_sgd_privacy_lib.compute_dp_sgd_privacy_statement(number_of_examples=training_length,\n",
    "                                              batch_size=batch_size,\n",
    "                                              noise_multiplier=0.8,\n",
    "                                              num_epochs=epochs,\n",
    "                                              delta=1e-5,\n",
    "                                              used_microbatching=False)\n",
    "print(privacy_report)"
   ]
  },
  {
   "cell_type": "code",
   "execution_count": null,
   "id": "25bbdfdf-0c67-4358-bba9-311f778f8f69",
   "metadata": {},
   "outputs": [],
   "source": [
    "X_train =  sy.ActionObject.from_obj(X_train)\n",
    "y_train =  sy.ActionObject.from_obj(y_train)\n",
    "X_test =  sy.ActionObject.from_obj(X_test)\n",
    "y_test =  sy.ActionObject.from_obj(y_test)\n",
    "X_train_domain_obj = domain_client.api.services.action.set(X_train)\n",
    "y_train_domain_obj = domain_client.api.services.action.set(y_train)\n",
    "X_test_domain_obj = domain_client.api.services.action.set(X_test)\n",
    "y_test_domain_obj = domain_client.api.services.action.set(y_test)\n"
   ]
  },
  {
   "cell_type": "code",
   "execution_count": null,
   "id": "dc76858e-229a-4f39-845e-f76d6b8018c9",
   "metadata": {},
   "outputs": [],
   "source": [
    "@sy.syft_function(input_policy=sy.ExactMatch(X_train=X_train_domain_obj.id,y_train=y_train_domain_obj.id,X_test=X_test,y_train_domain_obj.id,y_test=y_test_domain_obj.id),\n",
    "                  output_policy=sy.SingleExecutionExactOutput())\n",
    "def train(X_train,y_train,X_test,y_test):\n",
    " import keras\n",
    " from keras.models import Sequential\n",
    " from keras.layers import Dense\n",
    " from keras.optimizers import Adam\n",
    " # import adam optimizer\n",
    "\n",
    " X_train, X_test, y_train, y_test = load_mouse_data()\n",
    " input_shape = (X_train.shape[1],)\n",
    " # Create the model\n",
    " model = Sequential()\n",
    "\n",
    " # Add layers to the model\n",
    " model.add(Dense(64, activation='relu', input_shape=input_shape))\n",
    " model.add(Dense(32, activation='relu'))\n",
    " model.add(Dense(1, activation='sigmoid'))\n",
    "\n",
    " # Compile the model\n",
    " optimizer =Adam(learning_rate=0.001)\n",
    " model.compile(optimizer = optimizer, loss='binary_crossentropy', metrics=['accuracy'])\n",
    "\n",
    " # Train the model\n",
    " model.fit(X_train, y_train, epochs=10, batch_size=32, validation_data=(X_test, y_test))\n",
    "\n",
    " # Evaluate the model\n",
    " loss, accuracy = model.evaluate(X_test, y_test)\n",
    " return loss,accuracy"
   ]
  },
  {
   "cell_type": "code",
   "execution_count": null,
   "id": "339e6280-4c45-47d6-ba9b-00a32c796b20",
   "metadata": {},
   "outputs": [],
   "source": [
    "request = domain_client.code.request_code_execution(train)\n",
    "request"
   ]
  },
  {
   "cell_type": "code",
   "execution_count": null,
   "id": "6e4042fb-0be7-4534-94b2-1c773ebb0bca",
   "metadata": {},
   "outputs": [],
   "source": [
    "request.approve()\n"
   ]
  },
  {
   "cell_type": "code",
   "execution_count": null,
   "id": "684f2638-d9c1-4b9f-8e73-fc6513f3aa52",
   "metadata": {},
   "outputs": [],
   "source": [
    "result_ptr = domain_client.code.train_mlp(X_train=X_train.id,y_train=y_train.id,X_test=X_test.id,y_test=y_test.id)"
   ]
  },
  {
   "cell_type": "code",
   "execution_count": null,
   "id": "3507b421-98b4-4ba9-aeb7-f07838578170",
   "metadata": {},
   "outputs": [],
   "source": [
    "result_ptr.get()"
   ]
  }
 ],
 "metadata": {
  "kernelspec": {
   "display_name": "Python 3 (ipykernel)",
   "language": "python",
   "name": "python3"
  },
  "language_info": {
   "codemirror_mode": {
    "name": "ipython",
    "version": 3
   },
   "file_extension": ".py",
   "mimetype": "text/x-python",
   "name": "python",
   "nbconvert_exporter": "python",
   "pygments_lexer": "ipython3",
   "version": "3.9.16"
  }
 },
 "nbformat": 4,
 "nbformat_minor": 5
}
