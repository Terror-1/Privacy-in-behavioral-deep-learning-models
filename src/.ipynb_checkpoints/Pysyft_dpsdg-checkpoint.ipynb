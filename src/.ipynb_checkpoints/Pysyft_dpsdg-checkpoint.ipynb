{
 "cells": [
  {
   "cell_type": "code",
   "execution_count": null,
   "id": "c23a69b4-4fb7-4bf2-9c40-35349f0e50ee",
   "metadata": {},
   "outputs": [],
   "source": [
    "SYFT_VERSION = \">=0.8.1b0,<0.9\"\n",
    "package_string = f'\"syft{SYFT_VERSION}\"'\n",
    "%pip install {package_string} -f https://whls.blob.core.windows.net/unstable/index.html -q"
   ]
  },
  {
   "cell_type": "code",
   "execution_count": null,
   "id": "f4bf6c5c-daec-47ac-ba1d-f5cae5b119fe",
   "metadata": {},
   "outputs": [],
   "source": [
    "import syft as sy\n",
    "sy.requires(SYFT_VERSION)"
   ]
  },
  {
   "cell_type": "code",
   "execution_count": null,
   "id": "2092ba31-486d-42ae-9f15-20e3b2eea5ed",
   "metadata": {},
   "outputs": [],
   "source": [
    "node = sy.orchestra.launch(name=\"test-domain_api\", port=\"auto\", dev_mode=True, reset=True)\n"
   ]
  },
  {
   "cell_type": "code",
   "execution_count": null,
   "id": "4d6cc2c5-5eb7-46ac-8955-542d6cb3016b",
   "metadata": {},
   "outputs": [],
   "source": [
    "domain_client = node.login(email=\"info@openmined.org\", password=\"changethis\")\n"
   ]
  },
  {
   "cell_type": "code",
   "execution_count": 179,
   "id": "e53eb7e0-b724-49fd-b528-96f2f876e802",
   "metadata": {},
   "outputs": [],
   "source": [
    "import pandas as pd\n",
    "import numpy as np\n",
    "from sklearn.model_selection import train_test_split\n",
    "from keras.utils import to_categorical, plot_model\n",
    "\n",
    "\n",
    "db=pd.read_pickle(\"../datasets/sample.pkl\")\n",
    "mouse_data = db[db['type'].isin(['mousemove', 'mousedown', 'mouseup'])]\n",
    "keyboard_data = db[db['type'].isin(['keyup', 'keydown'])]\n",
    "keyboard_data=keyboard_data.drop(['ID', 'INVALID', 'X', 'Y', 'resolutionX', 'resolutionY', 'mu'], axis=1)\n",
    "mouse_data=mouse_data.drop(['ID', 'INVALID', 'type', 'value', 'mu'], axis=1)\n",
    "keystrokes = keyboard_data['value'].unique()\n",
    "traits = mouse_data[['O','C','E','A','N']]\n",
    "def load_mouse_data():\n",
    "    USERS = set(mouse_data['user'])\n",
    "    X_train = pd.DataFrame(columns = ['O','C','E','A','N'])\n",
    "    X_test  = pd.DataFrame(columns = ['O','C','E','A','N'])\n",
    "    y_train = pd.DataFrame()\n",
    "    y_test  = pd.DataFrame()\n",
    "    for index,user in enumerate(USERS) :\n",
    "     X_user= mouse_data[mouse_data['user']==user]\n",
    "     X = X_user[['O','C','E','A','N']]\n",
    "     y = X_user['user']\n",
    "     X_train_user, X_test_user, y_train_user, y_test_user = train_test_split(X, y, test_size=0.2, random_state=42)\n",
    "     X_train = pd.concat([X_train,X_train_user])\n",
    "     X_test= pd.concat([X_test,X_test_user])\n",
    "     y_train = pd.concat([y_train,y_train_user])\n",
    "     y_test= pd.concat([y_test,y_test_user])\n",
    "    y_train = to_categorical(y_train)\n",
    "    y_test = to_categorical(y_test)\n",
    "    return  np.asarray(X_train).astype('float32'), np.asarray(X_test).astype('float32'),np.asarray(y_train).astype('float32'), np.asarray(y_test).astype('float32')"
   ]
  },
  {
   "cell_type": "code",
   "execution_count": 180,
   "id": "a56a837f-1f6e-4337-a1f0-44b241ee73a7",
   "metadata": {},
   "outputs": [
    {
     "ename": "TypeError",
     "evalue": "'dict' object is not callable",
     "output_type": "error",
     "traceback": [
      "\u001b[0;31m---------------------------------------------------------------------------\u001b[0m",
      "\u001b[0;31mTypeError\u001b[0m                                 Traceback (most recent call last)",
      "Cell \u001b[0;32mIn[180], line 1\u001b[0m\n\u001b[0;32m----> 1\u001b[0m \u001b[43mload_mouse_data\u001b[49m\u001b[43m(\u001b[49m\u001b[43m)\u001b[49m\n",
      "Cell \u001b[0;32mIn[179], line 15\u001b[0m, in \u001b[0;36mload_mouse_data\u001b[0;34m()\u001b[0m\n\u001b[1;32m     14\u001b[0m \u001b[38;5;28;01mdef\u001b[39;00m \u001b[38;5;21mload_mouse_data\u001b[39m():\n\u001b[0;32m---> 15\u001b[0m     USERS \u001b[38;5;241m=\u001b[39m \u001b[38;5;28;43mset\u001b[39;49m\u001b[43m(\u001b[49m\u001b[43mmouse_data\u001b[49m\u001b[43m[\u001b[49m\u001b[38;5;124;43m'\u001b[39;49m\u001b[38;5;124;43muser\u001b[39;49m\u001b[38;5;124;43m'\u001b[39;49m\u001b[43m]\u001b[49m\u001b[43m)\u001b[49m\n\u001b[1;32m     16\u001b[0m     \u001b[38;5;28mprint\u001b[39m(USERS)\n\u001b[1;32m     17\u001b[0m     X_train \u001b[38;5;241m=\u001b[39m pd\u001b[38;5;241m.\u001b[39mDataFrame(columns \u001b[38;5;241m=\u001b[39m [\u001b[38;5;124m'\u001b[39m\u001b[38;5;124mO\u001b[39m\u001b[38;5;124m'\u001b[39m,\u001b[38;5;124m'\u001b[39m\u001b[38;5;124mC\u001b[39m\u001b[38;5;124m'\u001b[39m,\u001b[38;5;124m'\u001b[39m\u001b[38;5;124mE\u001b[39m\u001b[38;5;124m'\u001b[39m,\u001b[38;5;124m'\u001b[39m\u001b[38;5;124mA\u001b[39m\u001b[38;5;124m'\u001b[39m,\u001b[38;5;124m'\u001b[39m\u001b[38;5;124mN\u001b[39m\u001b[38;5;124m'\u001b[39m])\n",
      "\u001b[0;31mTypeError\u001b[0m: 'dict' object is not callable"
     ]
    }
   ],
   "source": [
    "load_mouse_data()"
   ]
  },
  {
   "cell_type": "code",
   "execution_count": 174,
   "id": "8828bed9-e2ab-4d6e-92db-d01284356788",
   "metadata": {},
   "outputs": [
    {
     "ename": "TypeError",
     "evalue": "'dict' object is not callable",
     "output_type": "error",
     "traceback": [
      "\u001b[0;31m---------------------------------------------------------------------------\u001b[0m",
      "\u001b[0;31mTypeError\u001b[0m                                 Traceback (most recent call last)",
      "Cell \u001b[0;32mIn[174], line 10\u001b[0m\n\u001b[1;32m      7\u001b[0m \u001b[38;5;28;01mfrom\u001b[39;00m \u001b[38;5;21;01mkeras\u001b[39;00m\u001b[38;5;21;01m.\u001b[39;00m\u001b[38;5;21;01moptimizers\u001b[39;00m \u001b[38;5;28;01mimport\u001b[39;00m Adam\n\u001b[1;32m      8\u001b[0m \u001b[38;5;66;03m# import adam optimizer\u001b[39;00m\n\u001b[0;32m---> 10\u001b[0m X_train, X_test, y_train, y_test \u001b[38;5;241m=\u001b[39m \u001b[43mload_mouse_data\u001b[49m\u001b[43m(\u001b[49m\u001b[43m)\u001b[49m\n\u001b[1;32m     11\u001b[0m input_shape \u001b[38;5;241m=\u001b[39m (X_train\u001b[38;5;241m.\u001b[39mshape[\u001b[38;5;241m1\u001b[39m],)\n\u001b[1;32m     12\u001b[0m \u001b[38;5;66;03m# Create the model\u001b[39;00m\n",
      "Cell \u001b[0;32mIn[173], line 15\u001b[0m, in \u001b[0;36mload_mouse_data\u001b[0;34m()\u001b[0m\n\u001b[1;32m     14\u001b[0m \u001b[38;5;28;01mdef\u001b[39;00m \u001b[38;5;21mload_mouse_data\u001b[39m():\n\u001b[0;32m---> 15\u001b[0m     USERS \u001b[38;5;241m=\u001b[39m \u001b[38;5;28;43mset\u001b[39;49m\u001b[43m(\u001b[49m\u001b[43mmouse_data\u001b[49m\u001b[43m[\u001b[49m\u001b[38;5;124;43m'\u001b[39;49m\u001b[38;5;124;43muser\u001b[39;49m\u001b[38;5;124;43m'\u001b[39;49m\u001b[43m]\u001b[49m\u001b[43m)\u001b[49m\n\u001b[1;32m     16\u001b[0m     X_train \u001b[38;5;241m=\u001b[39m pd\u001b[38;5;241m.\u001b[39mDataFrame(columns \u001b[38;5;241m=\u001b[39m [\u001b[38;5;124m'\u001b[39m\u001b[38;5;124mO\u001b[39m\u001b[38;5;124m'\u001b[39m,\u001b[38;5;124m'\u001b[39m\u001b[38;5;124mC\u001b[39m\u001b[38;5;124m'\u001b[39m,\u001b[38;5;124m'\u001b[39m\u001b[38;5;124mE\u001b[39m\u001b[38;5;124m'\u001b[39m,\u001b[38;5;124m'\u001b[39m\u001b[38;5;124mA\u001b[39m\u001b[38;5;124m'\u001b[39m,\u001b[38;5;124m'\u001b[39m\u001b[38;5;124mN\u001b[39m\u001b[38;5;124m'\u001b[39m])\n\u001b[1;32m     17\u001b[0m     X_test  \u001b[38;5;241m=\u001b[39m pd\u001b[38;5;241m.\u001b[39mDataFrame(columns \u001b[38;5;241m=\u001b[39m [\u001b[38;5;124m'\u001b[39m\u001b[38;5;124mO\u001b[39m\u001b[38;5;124m'\u001b[39m,\u001b[38;5;124m'\u001b[39m\u001b[38;5;124mC\u001b[39m\u001b[38;5;124m'\u001b[39m,\u001b[38;5;124m'\u001b[39m\u001b[38;5;124mE\u001b[39m\u001b[38;5;124m'\u001b[39m,\u001b[38;5;124m'\u001b[39m\u001b[38;5;124mA\u001b[39m\u001b[38;5;124m'\u001b[39m,\u001b[38;5;124m'\u001b[39m\u001b[38;5;124mN\u001b[39m\u001b[38;5;124m'\u001b[39m])\n",
      "\u001b[0;31mTypeError\u001b[0m: 'dict' object is not callable"
     ]
    }
   ],
   "source": [
    "import os \n",
    "os.environ['TF_CPP_MIN_LOG_LEVEL'] = '2'\n",
    "\n",
    "import keras\n",
    "from keras.models import Sequential\n",
    "from keras.layers import Dense , Activation, Dropout\n",
    "from keras.optimizers import Adam\n",
    "# import adam optimizer\n",
    "\n",
    "X_train, X_test, y_train, y_test = load_mouse_data()\n",
    "input_shape = (X_train.shape[1],)\n",
    "# Create the model\n",
    "model = Sequential()\n",
    "num_labels = 39\n",
    "hidden_units = 256\n",
    "batch_size = 128\n",
    "dropout = 0.45\n",
    "\n",
    "# Add layers to the model\n",
    "model = Sequential()\n",
    "model.add(Dense(64, input_dim=5, activation='relu'))\n",
    "model.add(Dense(32, activation='relu'))\n",
    "model.add(Dense(40, activation='softmax'))\n",
    "# Compile the model\n",
    "optimizer =Adam(learning_rate=0.001)\n",
    "model.compile(optimizer = optimizer, loss='binary_crossentropy', metrics=['accuracy'])\n",
    "\n",
    "# Train the model\n",
    "model.fit(X_train, y_train, epochs=10, batch_size=128, validation_data=(X_test, y_test))\n",
    "\n",
    "# Evaluate the model\n",
    "loss, accuracy = model.evaluate(X_test, y_test)\n",
    "print(\"Loss:\", loss)\n",
    "print(\"Accuracy:\", accuracy)\n"
   ]
  },
  {
   "cell_type": "code",
   "execution_count": null,
   "id": "25bbdfdf-0c67-4358-bba9-311f778f8f69",
   "metadata": {},
   "outputs": [],
   "source": [
    "X_train =  sy.ActionObject.from_obj(X_train)\n",
    "y_train =  sy.ActionObject.from_obj(y_train)\n",
    "X_test =  sy.ActionObject.from_obj(X_test)\n",
    "y_test =  sy.ActionObject.from_obj(y_test)\n",
    "X_train_domain_obj = domain_client.api.services.action.set(X_train)\n",
    "y_train_domain_obj = domain_client.api.services.action.set(y_train)\n",
    "X_test_domain_obj = domain_client.api.services.action.set(X_test)\n",
    "y_test_domain_obj = domain_client.api.services.action.set(y_test)\n"
   ]
  },
  {
   "cell_type": "code",
   "execution_count": null,
   "id": "dc76858e-229a-4f39-845e-f76d6b8018c9",
   "metadata": {},
   "outputs": [],
   "source": [
    "@sy.syft_function(input_policy=sy.ExactMatch(X_train=X_train_domain_obj.id,y_train=y_train_domain_obj.id,X_test=X_test,y_train_domain_obj.id,y_test=y_test_domain_obj.id),\n",
    "                  output_policy=sy.SingleExecutionExactOutput())\n",
    "def train(X_train,y_train,X_test,y_test):\n",
    " import keras\n",
    " from keras.models import Sequential\n",
    " from keras.layers import Dense\n",
    " from keras.optimizers import Adam\n",
    " # import adam optimizer\n",
    "\n",
    " X_train, X_test, y_train, y_test = load_mouse_data()\n",
    " input_shape = (X_train.shape[1],)\n",
    " # Create the model\n",
    " model = Sequential()\n",
    "\n",
    " # Add layers to the model\n",
    " model.add(Dense(64, activation='relu', input_shape=input_shape))\n",
    " model.add(Dense(32, activation='relu'))\n",
    " model.add(Dense(1, activation='sigmoid'))\n",
    "\n",
    " # Compile the model\n",
    " optimizer =Adam(learning_rate=0.001)\n",
    " model.compile(optimizer = optimizer, loss='binary_crossentropy', metrics=['accuracy'])\n",
    "\n",
    " # Train the model\n",
    " model.fit(X_train, y_train, epochs=10, batch_size=32, validation_data=(X_test, y_test))\n",
    "\n",
    " # Evaluate the model\n",
    " loss, accuracy = model.evaluate(X_test, y_test)\n",
    " return loss,accuracy"
   ]
  },
  {
   "cell_type": "code",
   "execution_count": null,
   "id": "339e6280-4c45-47d6-ba9b-00a32c796b20",
   "metadata": {},
   "outputs": [],
   "source": [
    "request = domain_client.code.request_code_execution(train)\n",
    "request"
   ]
  },
  {
   "cell_type": "code",
   "execution_count": null,
   "id": "6e4042fb-0be7-4534-94b2-1c773ebb0bca",
   "metadata": {},
   "outputs": [],
   "source": [
    "request.approve()\n"
   ]
  },
  {
   "cell_type": "code",
   "execution_count": null,
   "id": "684f2638-d9c1-4b9f-8e73-fc6513f3aa52",
   "metadata": {},
   "outputs": [],
   "source": [
    "result_ptr = domain_client.code.train_mlp(X_train=X_train.id,y_train=y_train.id,X_test=X_test.id,y_test=y_test.id)"
   ]
  },
  {
   "cell_type": "code",
   "execution_count": null,
   "id": "3507b421-98b4-4ba9-aeb7-f07838578170",
   "metadata": {},
   "outputs": [],
   "source": [
    "result_ptr.get()"
   ]
  }
 ],
 "metadata": {
  "kernelspec": {
   "display_name": "Python 3 (ipykernel)",
   "language": "python",
   "name": "python3"
  },
  "language_info": {
   "codemirror_mode": {
    "name": "ipython",
    "version": 3
   },
   "file_extension": ".py",
   "mimetype": "text/x-python",
   "name": "python",
   "nbconvert_exporter": "python",
   "pygments_lexer": "ipython3",
   "version": "3.9.16"
  }
 },
 "nbformat": 4,
 "nbformat_minor": 5
}
